{
 "cells": [
  {
   "cell_type": "markdown",
   "id": "2717575a",
   "metadata": {},
   "source": [
    "----------------------------------"
   ]
  },
  {
   "cell_type": "markdown",
   "id": "5fffd08d",
   "metadata": {},
   "source": [
    "# Modélisation : étude de l'ANOVA"
   ]
  },
  {
   "cell_type": "markdown",
   "id": "47a5d0a1",
   "metadata": {},
   "source": [
    "Ici il sera question d'expliquer le revenu des individus en fonction de plusieurs variables explicatives : le pays de l'individu, l'indice de Gini de ce pays, la classe de revenu des parents, etc. L'Analyse de la Variance permettra d'expliquer l'influence de notre variable explicative, le pays de l'individu. Puis pour finir la performance du modèle sera étudiée."
   ]
  },
  {
   "cell_type": "markdown",
   "id": "3ec3913d",
   "metadata": {},
   "source": [
    "#### Mission: Créer un modèle permettant de déterminer le revenu potentiel d'une personne\n",
    "\n",
    "Etude retrospective\n",
    "\n",
    "Variable d'intérêt (dépendante, à expliquer): 'y_child' ou 'ln_y_child'\n",
    "\n",
    "Facteur (variables indépendantes, explicatives): 'Pays', 'mj', 'ln_mj', 'Gj', 'c_i_parent'"
   ]
  },
  {
   "cell_type": "markdown",
   "id": "38fe5d68",
   "metadata": {},
   "source": [
    "#### Description des variable:\n",
    "y_child: revenu\n",
    "\n",
    "ln_y_child: logarithme de y_child\n",
    "\n",
    "Pays: Pays d'appartenance d'un individus\n",
    "\n",
    "mj: revenu moyen par pays\n",
    "\n",
    "ln_mj: logarithme de mj\n",
    "\n",
    "Gj: Indice de Gini du pays\n",
    "\n",
    "c_i_parent: classe de revenu des parent"
   ]
  },
  {
   "cell_type": "code",
   "execution_count": 208,
   "id": "5bed4063",
   "metadata": {},
   "outputs": [],
   "source": [
    "import pandas as pd\n",
    "import numpy as np\n",
    "import matplotlib\n",
    "import matplotlib.pyplot as plt\n",
    "\n",
    "plt.style.use('ggplot')\n",
    "\n",
    "import seaborn as sns\n",
    "from scipy.stats import t, shapiro\n",
    "import statsmodels.formula.api as smf\n",
    "from statsmodels.graphics.gofplots import ProbPlot\n",
    "\n",
    "import statsmodels.api as sm\n",
    "import warnings"
   ]
  },
  {
   "cell_type": "code",
   "execution_count": 209,
   "id": "b6157dc4",
   "metadata": {},
   "outputs": [
    {
     "name": "stdout",
     "output_type": "stream",
     "text": [
      "1.20.3\n"
     ]
    }
   ],
   "source": [
    "import numpy as np\n",
    "print(np.__version__)"
   ]
  },
  {
   "cell_type": "code",
   "execution_count": 210,
   "id": "f26e2dd8",
   "metadata": {},
   "outputs": [
    {
     "data": {
      "text/html": [
       "<div>\n",
       "<style scoped>\n",
       "    .dataframe tbody tr th:only-of-type {\n",
       "        vertical-align: middle;\n",
       "    }\n",
       "\n",
       "    .dataframe tbody tr th {\n",
       "        vertical-align: top;\n",
       "    }\n",
       "\n",
       "    .dataframe thead th {\n",
       "        text-align: right;\n",
       "    }\n",
       "</style>\n",
       "<table border=\"1\" class=\"dataframe\">\n",
       "  <thead>\n",
       "    <tr style=\"text-align: right;\">\n",
       "      <th></th>\n",
       "      <th>country</th>\n",
       "      <th>y_child</th>\n",
       "      <th>Gj</th>\n",
       "      <th>pj</th>\n",
       "      <th>c_i_parent</th>\n",
       "      <th>mj</th>\n",
       "      <th>ln_y_child</th>\n",
       "      <th>ln_mj</th>\n",
       "    </tr>\n",
       "  </thead>\n",
       "  <tbody>\n",
       "    <tr>\n",
       "      <th>0</th>\n",
       "      <td>Albania</td>\n",
       "      <td>728.89795</td>\n",
       "      <td>0.3</td>\n",
       "      <td>0.815874</td>\n",
       "      <td>1</td>\n",
       "      <td>2994.829902</td>\n",
       "      <td>6.591534</td>\n",
       "      <td>8.004643</td>\n",
       "    </tr>\n",
       "    <tr>\n",
       "      <th>1</th>\n",
       "      <td>Albania</td>\n",
       "      <td>916.66235</td>\n",
       "      <td>0.3</td>\n",
       "      <td>0.815874</td>\n",
       "      <td>1</td>\n",
       "      <td>2994.829902</td>\n",
       "      <td>6.820739</td>\n",
       "      <td>8.004643</td>\n",
       "    </tr>\n",
       "    <tr>\n",
       "      <th>2</th>\n",
       "      <td>Albania</td>\n",
       "      <td>1010.91600</td>\n",
       "      <td>0.3</td>\n",
       "      <td>0.815874</td>\n",
       "      <td>1</td>\n",
       "      <td>2994.829902</td>\n",
       "      <td>6.918612</td>\n",
       "      <td>8.004643</td>\n",
       "    </tr>\n",
       "    <tr>\n",
       "      <th>3</th>\n",
       "      <td>Albania</td>\n",
       "      <td>1086.90780</td>\n",
       "      <td>0.3</td>\n",
       "      <td>0.815874</td>\n",
       "      <td>1</td>\n",
       "      <td>2994.829902</td>\n",
       "      <td>6.991092</td>\n",
       "      <td>8.004643</td>\n",
       "    </tr>\n",
       "    <tr>\n",
       "      <th>4</th>\n",
       "      <td>Albania</td>\n",
       "      <td>1132.69970</td>\n",
       "      <td>0.3</td>\n",
       "      <td>0.815874</td>\n",
       "      <td>1</td>\n",
       "      <td>2994.829902</td>\n",
       "      <td>7.032359</td>\n",
       "      <td>8.004643</td>\n",
       "    </tr>\n",
       "  </tbody>\n",
       "</table>\n",
       "</div>"
      ],
      "text/plain": [
       "   country     y_child   Gj        pj  c_i_parent           mj  ln_y_child  \\\n",
       "0  Albania   728.89795  0.3  0.815874           1  2994.829902    6.591534   \n",
       "1  Albania   916.66235  0.3  0.815874           1  2994.829902    6.820739   \n",
       "2  Albania  1010.91600  0.3  0.815874           1  2994.829902    6.918612   \n",
       "3  Albania  1086.90780  0.3  0.815874           1  2994.829902    6.991092   \n",
       "4  Albania  1132.69970  0.3  0.815874           1  2994.829902    7.032359   \n",
       "\n",
       "      ln_mj  \n",
       "0  8.004643  \n",
       "1  8.004643  \n",
       "2  8.004643  \n",
       "3  8.004643  \n",
       "4  8.004643  "
      ]
     },
     "execution_count": 210,
     "metadata": {},
     "output_type": "execute_result"
    }
   ],
   "source": [
    "# Chargement des données\n",
    "data_wid500 = pd.read_csv('analyse.csv')\n",
    "\n",
    "data_wid500.head()"
   ]
  },
  {
   "cell_type": "code",
   "execution_count": 211,
   "id": "506e9a38",
   "metadata": {},
   "outputs": [
    {
     "data": {
      "text/plain": [
       "(5800000, 8)"
      ]
     },
     "execution_count": 211,
     "metadata": {},
     "output_type": "execute_result"
    }
   ],
   "source": [
    "data_wid500.shape"
   ]
  },
  {
   "cell_type": "code",
   "execution_count": 212,
   "id": "4016e8b7",
   "metadata": {},
   "outputs": [
    {
     "data": {
      "text/plain": [
       "country        object\n",
       "y_child       float64\n",
       "Gj            float64\n",
       "pj            float64\n",
       "c_i_parent      int64\n",
       "mj            float64\n",
       "ln_y_child    float64\n",
       "ln_mj         float64\n",
       "dtype: object"
      ]
     },
     "execution_count": 212,
     "metadata": {},
     "output_type": "execute_result"
    }
   ],
   "source": [
    "data_wid500.dtypes"
   ]
  },
  {
   "cell_type": "markdown",
   "id": "f4853d52",
   "metadata": {},
   "source": [
    "### ANOVA à un facteur variable explicative le pays de l’individu"
   ]
  },
  {
   "cell_type": "markdown",
   "id": "5d4cf9a2",
   "metadata": {},
   "source": [
    "Réalisation de l'ANOVA en n’incluant comme variable explicative que le pays de l’individu, puis analyse de la performance du modèle.\n",
    "\n",
    "Utilisation de statsmodels"
   ]
  },
  {
   "cell_type": "markdown",
   "id": "94e1c0a6",
   "metadata": {},
   "source": [
    "### Première approche par représentation visuelle Boxplot selon les 9 pays identifiés lors du clustering"
   ]
  },
  {
   "cell_type": "markdown",
   "id": "68f5805e",
   "metadata": {},
   "source": [
    "Il est intéressant d'avoir un premier aperçu pouvant montrer l'influence d'un pays sur le revenu moyen des individus."
   ]
  },
  {
   "cell_type": "code",
   "execution_count": 213,
   "id": "5d65e76b",
   "metadata": {},
   "outputs": [],
   "source": [
    "#Rappel des pays identifiés lors du clustering et restriction sur notre échantillon \"data_wid500\"\n",
    "distribution_boxpot = data_wid500.copy()\n",
    "country_list =['Luxembourg', 'Sweden', 'Spain', 'France', 'Ireland', 'Norway', 'United States', 'Denmark', 'Austria']\n",
    "data_wid500_country_list = data_wid500[data_wid500['country'].isin(country_list)]"
   ]
  },
  {
   "cell_type": "code",
   "execution_count": 214,
   "id": "12ec58d5",
   "metadata": {},
   "outputs": [
    {
     "data": {
      "text/plain": [
       "<AxesSubplot:>"
      ]
     },
     "execution_count": 214,
     "metadata": {},
     "output_type": "execute_result"
    },
    {
     "data": {
      "image/png": "[encoded data removed]",
      "text/plain": [
       "<Figure size 432x288 with 1 Axes>"
      ]
     },
     "metadata": {},
     "output_type": "display_data"
    }
   ],
   "source": [
    "import seaborn as sns\n",
    "sns.boxplot(data=data_wid500['y_child'])"
   ]
  },
  {
   "cell_type": "code",
   "execution_count": 215,
   "id": "4ae4c0cc",
   "metadata": {},
   "outputs": [
    {
     "data": {
      "image/png": "[encoded data removed]",
      "text/plain": [
       "<Figure size 1224x720 with 1 Axes>"
      ]
     },
     "metadata": {},
     "output_type": "display_data"
    }
   ],
   "source": [
    "#Représentation des distributions par boxplot \n",
    "plt.figure(figsize=(17, 10))\n",
    "\n",
    "ax = sns.boxplot(x=\"country\", y=\"y_child\", data=data_wid500_country_list)\n",
    "\n",
    "plt.title('Influence du Pays sur le revenu moyen de la population', fontsize=20, fontweight='bold')\n",
    "plt.xlabel('Country', fontsize=15, fontweight='bold')\n",
    "plt.ylabel('Income', fontsize=15, fontweight='bold')\n",
    "\n",
    "\n",
    "plt.show()"
   ]
  },
  {
   "cell_type": "markdown",
   "id": "f6864688",
   "metadata": {},
   "source": [
    "Les pays semblent assez différentes, même si l'ordre de grandeur de ces écarts n'est pas très grand. La question sera de savoir si ces écarts sont significatifs ou pas. C'est l'ANOVA qui nous permettra de répondre à cette question."
   ]
  },
  {
   "cell_type": "code",
   "execution_count": 216,
   "id": "4cd1de6b",
   "metadata": {},
   "outputs": [
    {
     "name": "stdout",
     "output_type": "stream",
     "text": [
      "                            OLS Regression Results                            \n",
      "==============================================================================\n",
      "Dep. Variable:                y_child   R-squared:                       0.496\n",
      "Model:                            OLS   Adj. R-squared:                  0.496\n",
      "Method:                 Least Squares   F-statistic:                 4.971e+04\n",
      "Date:                Thu, 28 Apr 2022   Prob (F-statistic):               0.00\n",
      "Time:                        19:35:43   Log-Likelihood:            -5.9310e+07\n",
      "No. Observations:             5800000   AIC:                         1.186e+08\n",
      "Df Residuals:                 5799884   BIC:                         1.186e+08\n",
      "Df Model:                         115                                         \n",
      "Covariance Type:            nonrobust                                         \n",
      "==============================================================================\n"
     ]
    }
   ],
   "source": [
    "#Anova pour tester l'influence du pays de l’individu sur le revenu moyen des individus \n",
    "anova_income = smf.ols('y_child ~ country', data=data_wid500).fit()\n",
    "print(anova_income.summary().tables[0])"
   ]
  },
  {
   "cell_type": "markdown",
   "id": "8a222f4b",
   "metadata": {},
   "source": [
    "R² = 0.496, on peut en conclure que la variable explicative Pays explique près de 50% de la variance du revenu de l'individu. Le reste, donc la moitié de la variance sur le revenu est expliquée par les autres facteurs non considérés dans ce modèle."
   ]
  },
  {
   "cell_type": "markdown",
   "id": "a32edc44",
   "metadata": {},
   "source": [
    "### Test de Fisher"
   ]
  },
  {
   "cell_type": "code",
   "execution_count": 217,
   "id": "dba43f24",
   "metadata": {},
   "outputs": [
    {
     "data": {
      "text/html": [
       "<div>\n",
       "<style scoped>\n",
       "    .dataframe tbody tr th:only-of-type {\n",
       "        vertical-align: middle;\n",
       "    }\n",
       "\n",
       "    .dataframe tbody tr th {\n",
       "        vertical-align: top;\n",
       "    }\n",
       "\n",
       "    .dataframe thead th {\n",
       "        text-align: right;\n",
       "    }\n",
       "</style>\n",
       "<table border=\"1\" class=\"dataframe\">\n",
       "  <thead>\n",
       "    <tr style=\"text-align: right;\">\n",
       "      <th></th>\n",
       "      <th>sum_sq</th>\n",
       "      <th>df</th>\n",
       "      <th>F</th>\n",
       "      <th>PR(&gt;F)</th>\n",
       "    </tr>\n",
       "  </thead>\n",
       "  <tbody>\n",
       "    <tr>\n",
       "      <th>country</th>\n",
       "      <td>2.551188e+14</td>\n",
       "      <td>115.0</td>\n",
       "      <td>49710.758889</td>\n",
       "      <td>0.0</td>\n",
       "    </tr>\n",
       "    <tr>\n",
       "      <th>Residual</th>\n",
       "      <td>2.588293e+14</td>\n",
       "      <td>5799884.0</td>\n",
       "      <td>NaN</td>\n",
       "      <td>NaN</td>\n",
       "    </tr>\n",
       "  </tbody>\n",
       "</table>\n",
       "</div>"
      ],
      "text/plain": [
       "                sum_sq         df             F  PR(>F)\n",
       "country   2.551188e+14      115.0  49710.758889     0.0\n",
       "Residual  2.588293e+14  5799884.0           NaN     NaN"
      ]
     },
     "execution_count": 217,
     "metadata": {},
     "output_type": "execute_result"
    }
   ],
   "source": [
    "#Affichage des resultats du test de Fisher (influence de la variable pays)\n",
    "import statsmodels.api as sm\n",
    "sm.stats.anova_lm(anova_income, typ=2)"
   ]
  },
  {
   "cell_type": "markdown",
   "id": "51e59aea",
   "metadata": {},
   "source": [
    "La p-valeur de ce test (~0.0) est très petite et largement inférieure à 5%. On rejette donc l'hypothèse H0"
   ]
  },
  {
   "cell_type": "markdown",
   "id": "31efadc8",
   "metadata": {},
   "source": [
    "Le pays a donc bien une influence sur le revenu moyen des individus, comme nous en avions l'intuition en regardant les boxplot…"
   ]
  },
  {
   "cell_type": "markdown",
   "id": "b719ada9",
   "metadata": {},
   "source": [
    "### Comparaison de l'ANOVA avec le logarithme du revenu de l'individu :"
   ]
  },
  {
   "cell_type": "markdown",
   "id": "10c2593b",
   "metadata": {},
   "source": [
    "Le modèle sera t-il plus performant? Le but ici est de pouvoir déterminer l'impact du logarithme sur l'ANOVA."
   ]
  },
  {
   "cell_type": "code",
   "execution_count": 218,
   "id": "c801b329",
   "metadata": {},
   "outputs": [],
   "source": [
    "#Calcul et intégration de la variable logarithmique 'ln_income'\n",
    "data_wid500['ln_mj'] = np.log(data_wid500['y_child'])"
   ]
  },
  {
   "cell_type": "code",
   "execution_count": 219,
   "id": "c298d1ef",
   "metadata": {},
   "outputs": [
    {
     "name": "stdout",
     "output_type": "stream",
     "text": [
      "                            OLS Regression Results                            \n",
      "==============================================================================\n",
      "Dep. Variable:                  ln_mj   R-squared:                       0.729\n",
      "Model:                            OLS   Adj. R-squared:                  0.729\n",
      "Method:                 Least Squares   F-statistic:                 1.358e+05\n",
      "Date:                Thu, 28 Apr 2022   Prob (F-statistic):               0.00\n",
      "Time:                        19:59:15   Log-Likelihood:            -6.3135e+06\n",
      "No. Observations:             5800000   AIC:                         1.263e+07\n",
      "Df Residuals:                 5799884   BIC:                         1.263e+07\n",
      "Df Model:                         115                                         \n",
      "Covariance Type:            nonrobust                                         \n",
      "==============================================================================\n"
     ]
    }
   ],
   "source": [
    "#Nouvelle Anova pour tester l'influence du pays de l’individu sur le logarithme du revenu moyen des individus \n",
    "anova_ln_income = smf.ols('ln_mj ~ country', data=data_wid500).fit()\n",
    "print(anova_ln_income.summary().tables[0])"
   ]
  },
  {
   "cell_type": "markdown",
   "id": "1bb4efc5",
   "metadata": {},
   "source": [
    "En considérant le logarithme du revenu, la variance expliquée est plus concluante, 73% contre 50% précédemment."
   ]
  },
  {
   "cell_type": "code",
   "execution_count": 220,
   "id": "4536c0de",
   "metadata": {},
   "outputs": [
    {
     "data": {
      "text/html": [
       "<div>\n",
       "<style scoped>\n",
       "    .dataframe tbody tr th:only-of-type {\n",
       "        vertical-align: middle;\n",
       "    }\n",
       "\n",
       "    .dataframe tbody tr th {\n",
       "        vertical-align: top;\n",
       "    }\n",
       "\n",
       "    .dataframe thead th {\n",
       "        text-align: right;\n",
       "    }\n",
       "</style>\n",
       "<table border=\"1\" class=\"dataframe\">\n",
       "  <thead>\n",
       "    <tr style=\"text-align: right;\">\n",
       "      <th></th>\n",
       "      <th>sum_sq</th>\n",
       "      <th>df</th>\n",
       "      <th>F</th>\n",
       "      <th>PR(&gt;F)</th>\n",
       "    </tr>\n",
       "  </thead>\n",
       "  <tbody>\n",
       "    <tr>\n",
       "      <th>country</th>\n",
       "      <td>8.067209e+06</td>\n",
       "      <td>115.0</td>\n",
       "      <td>135832.373963</td>\n",
       "      <td>0.0</td>\n",
       "    </tr>\n",
       "    <tr>\n",
       "      <th>Residual</th>\n",
       "      <td>2.995308e+06</td>\n",
       "      <td>5799884.0</td>\n",
       "      <td>NaN</td>\n",
       "      <td>NaN</td>\n",
       "    </tr>\n",
       "  </tbody>\n",
       "</table>\n",
       "</div>"
      ],
      "text/plain": [
       "                sum_sq         df              F  PR(>F)\n",
       "country   8.067209e+06      115.0  135832.373963     0.0\n",
       "Residual  2.995308e+06  5799884.0            NaN     NaN"
      ]
     },
     "execution_count": 220,
     "metadata": {},
     "output_type": "execute_result"
    }
   ],
   "source": [
    "#Affichage des resultats du test de Fisher (influence de la variable pays)\n",
    "import statsmodels.api as sm\n",
    "sm.stats.anova_lm(anova_ln_income, typ=2)"
   ]
  },
  {
   "cell_type": "code",
   "execution_count": null,
   "id": "d10057b3",
   "metadata": {},
   "outputs": [],
   "source": []
  },
  {
   "cell_type": "markdown",
   "id": "63ef3313",
   "metadata": {},
   "source": [
    "## Regression Linéaire"
   ]
  },
  {
   "cell_type": "markdown",
   "id": "cabe39d7",
   "metadata": {},
   "source": [
    "Régression linéaire sur nos données, en incluant comme variables explicatives uniquement le revenu moyen du pays de l’individu et l’indice de Gini du pays de l’individu. Quel est le pourcentage de variance expliquée par le(s) modèle(s) ?"
   ]
  },
  {
   "cell_type": "markdown",
   "id": "ae75bb7f",
   "metadata": {},
   "source": [
    "### Première Régression Linéaire : Revenu moyen du pays de l’individu et l’indice de Gini du pays de l’individu"
   ]
  },
  {
   "cell_type": "code",
   "execution_count": 221,
   "id": "081c115b",
   "metadata": {},
   "outputs": [
    {
     "name": "stdout",
     "output_type": "stream",
     "text": [
      "                            OLS Regression Results                            \n",
      "==============================================================================\n",
      "Dep. Variable:                y_child   R-squared:                       0.496\n",
      "Model:                            OLS   Adj. R-squared:                  0.496\n",
      "Method:                 Least Squares   F-statistic:                 2.858e+06\n",
      "Date:                Thu, 28 Apr 2022   Prob (F-statistic):               0.00\n",
      "Time:                        19:59:26   Log-Likelihood:            -5.9310e+07\n",
      "No. Observations:             5800000   AIC:                         1.186e+08\n",
      "Df Residuals:                 5799997   BIC:                         1.186e+08\n",
      "Df Model:                           2                                         \n",
      "Covariance Type:            nonrobust                                         \n",
      "==============================================================================\n",
      "                 coef    std err          t      P>|t|      [0.025      0.975]\n",
      "------------------------------------------------------------------------------\n",
      "Intercept  -7.991e-09     14.071  -5.68e-10      1.000     -27.578      27.578\n",
      "Gj          1.038e-08     33.243   3.12e-10      1.000     -65.155      65.155\n",
      "mj             1.0000      0.000   2233.540      0.000       0.999       1.001\n",
      "==============================================================================\n",
      "Omnibus:                  7299083.278   Durbin-Watson:                   0.752\n",
      "Prob(Omnibus):                  0.000   Jarque-Bera (JB):       2103715771.078\n",
      "Skew:                           6.739   Prob(JB):                         0.00\n",
      "Kurtosis:                      95.322   Cond. No.                     1.16e+05\n",
      "==============================================================================\n",
      "\n",
      "Notes:\n",
      "[1] Standard Errors assume that the covariance matrix of the errors is correctly specified.\n",
      "[2] The condition number is large, 1.16e+05. This might indicate that there are\n",
      "strong multicollinearity or other numerical problems.\n"
     ]
    }
   ],
   "source": [
    "#Création du premier modèle de Régression linéaire\n",
    "modele1 = smf.ols('y_child ~ Gj + mj', data=data_wid500).fit()\n",
    "print(modele1.summary())"
   ]
  },
  {
   "cell_type": "markdown",
   "id": "9b36856b",
   "metadata": {},
   "source": [
    "#### Ce modèle n'explique que 50% de la variance"
   ]
  },
  {
   "cell_type": "markdown",
   "id": "8d4125d5",
   "metadata": {},
   "source": [
    " nous ne sommes pas plus performant que l'ANOVA. Il peut s'agir d'un problème de linéarité, car les salaires ont tendance à évoluer de manière exponentielle. Nous analyserons ce modèle plus bas pour vérifier cette hypothèse."
   ]
  },
  {
   "cell_type": "markdown",
   "id": "1b35533e",
   "metadata": {},
   "source": [
    "Maintenant je vais comparer la performance du premier modèle avec un second modèle incluant le logarithme du revenu moyen du pays."
   ]
  },
  {
   "cell_type": "markdown",
   "id": "2f126ea3",
   "metadata": {},
   "source": [
    "### Seconde Régression Linéaire : Logarithme du Revenu moyen du pays de l’individu et l’indice de Gini du pays de l’individu"
   ]
  },
  {
   "cell_type": "code",
   "execution_count": 222,
   "id": "53db9720",
   "metadata": {},
   "outputs": [],
   "source": [
    "#Calcul et intégration de la variable logarithmique 'ln_y_child'\n",
    "data_wid500['ln_y_child'] = np.log(data_wid500['mj'])"
   ]
  },
  {
   "cell_type": "code",
   "execution_count": 223,
   "id": "ec1dd7c7",
   "metadata": {},
   "outputs": [
    {
     "name": "stdout",
     "output_type": "stream",
     "text": [
      "                            OLS Regression Results                            \n",
      "==============================================================================\n",
      "Dep. Variable:                     mj   R-squared:                       0.797\n",
      "Model:                            OLS   Adj. R-squared:                  0.797\n",
      "Method:                 Least Squares   F-statistic:                 1.140e+07\n",
      "Date:                Thu, 28 Apr 2022   Prob (F-statistic):               0.00\n",
      "Time:                        20:00:32   Log-Likelihood:            -5.4641e+07\n",
      "No. Observations:             5800000   AIC:                         1.093e+08\n",
      "Df Residuals:                 5799997   BIC:                         1.093e+08\n",
      "Df Model:                           2                                         \n",
      "Covariance Type:            nonrobust                                         \n",
      "==============================================================================\n",
      "                 coef    std err          t      P>|t|      [0.025      0.975]\n",
      "------------------------------------------------------------------------------\n",
      "Intercept  -3.014e+04     11.867  -2539.584      0.000   -3.02e+04   -3.01e+04\n",
      "Gj         -9559.2803     14.414   -663.182      0.000   -9587.532   -9531.029\n",
      "ln_y_child  4912.1797      1.122   4376.527      0.000    4909.980    4914.380\n",
      "==============================================================================\n",
      "Omnibus:                   956266.089   Durbin-Watson:                   0.000\n",
      "Prob(Omnibus):                  0.000   Jarque-Bera (JB):          1561345.006\n",
      "Skew:                           1.125   Prob(JB):                         0.00\n",
      "Kurtosis:                       4.183   Cond. No.                         114.\n",
      "==============================================================================\n",
      "\n",
      "Notes:\n",
      "[1] Standard Errors assume that the covariance matrix of the errors is correctly specified.\n"
     ]
    }
   ],
   "source": [
    "modele2 = smf.ols('mj ~ Gj + ln_y_child', data=data_wid500).fit()\n",
    "print(modele2.summary())"
   ]
  },
  {
   "cell_type": "markdown",
   "id": "05f93e11",
   "metadata": {},
   "source": [
    "Comme lors de l'étude de l'ANOVA, la version logarithmique est plus perfomante. Il ressort que le modèle 2, en prenant donc le logarithme du revenu et le logarithme du revenu moyen, la performance est plus optimale. Les p-valeurs sont d'ailleurs très faibles."
   ]
  },
  {
   "cell_type": "markdown",
   "id": "704d9ecc",
   "metadata": {},
   "source": [
    "Nous retrouvons le niveau de performance que dans l'ANOVA du logarithme du revenu. Le modèle 2 peut expliquer près de 99% de la variance, le restant peut s'expliquer sur d'autres critères non pris en compte jusqu'ici, à savoir les classes de revenu des parents, ou encore des critères sociaux professionels, etc…"
   ]
  },
  {
   "cell_type": "code",
   "execution_count": 224,
   "id": "c59f2e70",
   "metadata": {},
   "outputs": [
    {
     "name": "stdout",
     "output_type": "stream",
     "text": [
      "                            OLS Regression Results                            \n",
      "==============================================================================\n",
      "Dep. Variable:                  ln_mj   R-squared:                       0.583\n",
      "Model:                            OLS   Adj. R-squared:                  0.583\n",
      "Method:                 Least Squares   F-statistic:                 4.048e+06\n",
      "Date:                Thu, 28 Apr 2022   Prob (F-statistic):               0.00\n",
      "Time:                        20:01:01   Log-Likelihood:            -7.5687e+06\n",
      "No. Observations:             5800000   AIC:                         1.514e+07\n",
      "Df Residuals:                 5799997   BIC:                         1.514e+07\n",
      "Df Model:                           2                                         \n",
      "Covariance Type:            nonrobust                                         \n",
      "==============================================================================\n",
      "                 coef    std err          t      P>|t|      [0.025      0.975]\n",
      "------------------------------------------------------------------------------\n",
      "Intercept      8.0634      0.002   4629.616      0.000       8.060       8.067\n",
      "Gj            -2.2651      0.004   -528.551      0.000      -2.273      -2.257\n",
      "y_child        0.0001   4.07e-08   2572.993      0.000       0.000       0.000\n",
      "==============================================================================\n",
      "Omnibus:                  2862157.557   Durbin-Watson:                   0.247\n",
      "Prob(Omnibus):                  0.000   Jarque-Bera (JB):         48856871.576\n",
      "Skew:                          -1.967   Prob(JB):                         0.00\n",
      "Kurtosis:                      16.663   Cond. No.                     1.39e+05\n",
      "==============================================================================\n",
      "\n",
      "Notes:\n",
      "[1] Standard Errors assume that the covariance matrix of the errors is correctly specified.\n",
      "[2] The condition number is large, 1.39e+05. This might indicate that there are\n",
      "strong multicollinearity or other numerical problems.\n"
     ]
    }
   ],
   "source": [
    "#Création d'un second modèle de Régression linéaire à des fins de comparaison selon le logarithme \n",
    "modele2 = smf.ols('ln_mj ~ Gj + y_child', data=data_wid500).fit()\n",
    "print(modele2.summary())"
   ]
  },
  {
   "cell_type": "markdown",
   "id": "f4457686",
   "metadata": {},
   "source": [
    "### Comparaison des régressions linéaires en utilisant Scikit-Learn :\n"
   ]
  },
  {
   "cell_type": "code",
   "execution_count": 225,
   "id": "1a03208c",
   "metadata": {},
   "outputs": [
    {
     "data": {
      "text/plain": [
       "0.49639014231099643"
      ]
     },
     "execution_count": 225,
     "metadata": {},
     "output_type": "execute_result"
    }
   ],
   "source": [
    "#Premier modèle (sans logarithme)\n",
    "from sklearn import linear_model\n",
    "X = data_wid500[['mj', 'Gj']]\n",
    "y = data_wid500['y_child']\n",
    "\n",
    "model1 = linear_model.LinearRegression().fit(X, y)\n",
    "model1.score(X, y)\n"
   ]
  },
  {
   "cell_type": "code",
   "execution_count": 226,
   "id": "03809ddd",
   "metadata": {},
   "outputs": [
    {
     "data": {
      "text/plain": [
       "0.7843313916522534"
      ]
     },
     "execution_count": 226,
     "metadata": {},
     "output_type": "execute_result"
    }
   ],
   "source": [
    "#Second modèle (avec logarithme)\n",
    "from sklearn import linear_model\n",
    "X = data_wid500[['mj', 'Gj']]\n",
    "y = data_wid500['ln_y_child']\n",
    "\n",
    "model2 = linear_model.LinearRegression().fit(X, y)\n",
    "model2.score(X, y)"
   ]
  },
  {
   "cell_type": "markdown",
   "id": "ab85c7bd",
   "metadata": {},
   "source": [
    "Cette comparaison rapide permet de conforter les précédents résultats, les modèles sont plus performants avec logarithme, ainsi la variance expliquée permet de comprendre 78% le revenu des individus."
   ]
  },
  {
   "cell_type": "code",
   "execution_count": null,
   "id": "a33d1b03",
   "metadata": {},
   "outputs": [],
   "source": []
  },
  {
   "cell_type": "markdown",
   "id": "43d648e3",
   "metadata": {},
   "source": [
    "## Diagnostic de la régression linéaire des deux modèles (sans et avec logarithme)"
   ]
  },
  {
   "cell_type": "markdown",
   "id": "4f1bc2a9",
   "metadata": {},
   "source": [
    "### Normalité des résidus"
   ]
  },
  {
   "cell_type": "markdown",
   "id": "00cd6981",
   "metadata": {},
   "source": [
    "L’inférence dans la régression linéaire multiple repose sur l’hypothèse de normalité des erreurs. Une première vérification importante consiste à vérifier la compatibilité des résidus (l’erreur observée sur l’échantillon)."
   ]
  },
  {
   "cell_type": "code",
   "execution_count": 227,
   "id": "10e58918",
   "metadata": {},
   "outputs": [
    {
     "data": {
      "image/png": "[encoded data removed]",
      "text/plain": [
       "<Figure size 720x720 with 1 Axes>"
      ]
     },
     "metadata": {},
     "output_type": "display_data"
    }
   ],
   "source": [
    "# Préparation des données\n",
    "X = modele1.resid\n",
    "Xbar = np.mean(X)\n",
    "Xsprime = np.std(X)\n",
    "\n",
    "#Représentation de la distribution marginale\n",
    "plt.figure(figsize=(10,10))\n",
    "\n",
    "plt.hist(X, 100, facecolor='g')\n",
    "plt.axvline(Xbar, color='r', linewidth=2)\n",
    "\n",
    "plt.title(f'Distribution marginale des residus', fontsize=22)\n",
    "plt.ylabel('Nombre',fontsize=18)\n",
    "plt.yticks(fontsize=16)\n",
    "plt.xlabel('Residus',fontsize=18)\n",
    "plt.yticks(fontsize=16)\n",
    "\n",
    "plt.tight_layout()\n",
    "\n",
    "\n",
    "plt.show()"
   ]
  },
  {
   "cell_type": "code",
   "execution_count": 228,
   "id": "c3a82e96",
   "metadata": {},
   "outputs": [
    {
     "data": {
      "image/png": "[encoded data removed]",
      "text/plain": [
       "<Figure size 720x720 with 1 Axes>"
      ]
     },
     "metadata": {},
     "output_type": "display_data"
    }
   ],
   "source": [
    "# Préparation des données\n",
    "X = modele2.resid\n",
    "Xbar = np.mean(X)\n",
    "Xsprime = np.std(X)\n",
    "\n",
    "#Représentation de la distribution marginale\n",
    "plt.figure(figsize=(10,10))\n",
    "\n",
    "plt.hist(X, 100, facecolor='g')\n",
    "plt.axvline(Xbar, color='r', linewidth=2)\n",
    "\n",
    "plt.title(f'Distribution marginale des residus', fontsize=22)\n",
    "plt.ylabel('Nombre',fontsize=18)\n",
    "plt.yticks(fontsize=16)\n",
    "plt.xlabel('Residus',fontsize=18)\n",
    "plt.yticks(fontsize=16)\n",
    "\n",
    "plt.tight_layout()\n",
    "\n",
    "\n",
    "plt.show()"
   ]
  },
  {
   "cell_type": "markdown",
   "id": "342628f7",
   "metadata": {},
   "source": [
    "Le modèle 1 (sans logarithme) renvoie une distribution des résidus qui semble suivre plus difficilement une loi normale,tandis que le second modèle propose une distribution plus gaussienne, plus homogène."
   ]
  },
  {
   "cell_type": "markdown",
   "id": "0f7446d1",
   "metadata": {},
   "source": [
    "### Test d'adéquation à une loi normale : la statistique de Kolmogorov-Smirnov"
   ]
  },
  {
   "cell_type": "code",
   "execution_count": 229,
   "id": "94430271",
   "metadata": {},
   "outputs": [
    {
     "data": {
      "text/plain": [
       "KstestResult(statistic=0.24642293103448276, pvalue=0.0)"
      ]
     },
     "execution_count": 229,
     "metadata": {},
     "output_type": "execute_result"
    }
   ],
   "source": [
    "from scipy.stats import ks_2samp\n",
    "#Modèle 1 non logarithmique\n",
    "X_ln2 = modele1.resid\n",
    "Xbar_ln2 = np.mean(X_ln2)\n",
    "Xsprime_ln2 = np.std(X_ln2)\n",
    "\n",
    "ks_2samp(modele1.resid, list(np.random.normal(Xbar_ln2, Xsprime_ln2, 5_800_000)))"
   ]
  },
  {
   "cell_type": "code",
   "execution_count": 230,
   "id": "a595ca98",
   "metadata": {},
   "outputs": [
    {
     "data": {
      "text/plain": [
       "KstestResult(statistic=0.09868931034482764, pvalue=0.0)"
      ]
     },
     "execution_count": 230,
     "metadata": {},
     "output_type": "execute_result"
    }
   ],
   "source": [
    "#Modèle 2 logarithmique\n",
    "X_ln2 = modele2.resid\n",
    "Xbar_ln2 = np.mean(X_ln2)\n",
    "Xsprime_ln2 = np.std(X_ln2)\n",
    "\n",
    "ks_2samp(modele2.resid, list(np.random.normal(Xbar_ln2, Xsprime_ln2, 5_800_000)))"
   ]
  },
  {
   "cell_type": "markdown",
   "id": "d87e6e75",
   "metadata": {},
   "source": [
    "Ici, l'hypothèse de normalité est remise en cause (p-value = 0.0 < 0.05)."
   ]
  },
  {
   "cell_type": "markdown",
   "id": "3f770428",
   "metadata": {},
   "source": [
    "Néanmoins, l'observation des résidus, le fait qu'ils ne soient pas très différents d'une distribution symétrique, et le fait que l'échantillon soit de taille très importante"
   ]
  },
  {
   "cell_type": "markdown",
   "id": "4534ff94",
   "metadata": {},
   "source": [
    "### Test de colinéarité de nos deux modèles"
   ]
  },
  {
   "cell_type": "code",
   "execution_count": 231,
   "id": "d593cf76",
   "metadata": {},
   "outputs": [],
   "source": [
    "from statsmodels.stats.outliers_influence import variance_inflation_factor"
   ]
  },
  {
   "cell_type": "code",
   "execution_count": 232,
   "id": "6d32bef6",
   "metadata": {},
   "outputs": [
    {
     "data": {
      "text/plain": [
       "[1.1459591695785054, 1.1459591695782907]"
      ]
     },
     "execution_count": 232,
     "metadata": {},
     "output_type": "execute_result"
    }
   ],
   "source": [
    "#Modèle 1 non logarithmique\n",
    "variables = modele1.model.exog\n",
    "[variance_inflation_factor(variables, i) for i in np.arange(1,variables.shape[1])]"
   ]
  },
  {
   "cell_type": "code",
   "execution_count": 233,
   "id": "f5fb6eed",
   "metadata": {},
   "outputs": [
    {
     "data": {
      "text/plain": [
       "[1.067491621649778, 1.0674916216497399]"
      ]
     },
     "execution_count": 233,
     "metadata": {},
     "output_type": "execute_result"
    }
   ],
   "source": [
    "#Modèle 2 logarithmique\n",
    "variables = modele2.model.exog\n",
    "[variance_inflation_factor(variables, i) for i in np.arange(1,variables.shape[1])]"
   ]
  },
  {
   "cell_type": "markdown",
   "id": "443a34c6",
   "metadata": {},
   "source": [
    "Aucun problème de colinéarité"
   ]
  },
  {
   "cell_type": "markdown",
   "id": "54575a16",
   "metadata": {},
   "source": [
    "## Test d’homoscédasticité (constance des variables ) par Breusch-Pagan"
   ]
  },
  {
   "cell_type": "markdown",
   "id": "dfb58f7e",
   "metadata": {},
   "source": [
    "Ce test consiste à vérifier la constance de la variation des résidus. En cas d'hétéroscédasticité, la variance de l'erreur n'est pas constante. Dans le cas contraire, (hypothèse d'homoscédasticité) la variance de l'erreur est constante."
   ]
  },
  {
   "cell_type": "code",
   "execution_count": 234,
   "id": "37bfb30e",
   "metadata": {},
   "outputs": [
    {
     "name": "stdout",
     "output_type": "stream",
     "text": [
      "Modèle 1 p value test Breusch-Pagan: 0.0\n",
      "Modèle 2 p value test Breusch-Pagan: 0.0\n"
     ]
    }
   ],
   "source": [
    "import statsmodels.stats.api as sms\n",
    "__, pval, __, f_pval = sms.het_breuschpagan(modele1.resid, modele1.model.exog)\n",
    "print('Modèle 1 p value test Breusch-Pagan:', pval)\n",
    "\n",
    "__, pval, __, f_pval = sms.het_breuschpagan(modele2.resid, modele2.model.exog)\n",
    "print('Modèle 2 p value test Breusch-Pagan:', pval)"
   ]
  },
  {
   "cell_type": "markdown",
   "id": "77062eed",
   "metadata": {},
   "source": [
    "H0: Homoscédasticité et H1: Hétéroscédasticité\n",
    "\n",
    "Rejet de l'hypothèse H0, il y a hétéroscédasticité des residus."
   ]
  },
  {
   "cell_type": "code",
   "execution_count": 235,
   "id": "a9e0b0a1",
   "metadata": {},
   "outputs": [
    {
     "data": {
      "image/png": "[encoded data removed]",
      "text/plain": [
       "<Figure size 432x432 with 1 Axes>"
      ]
     },
     "metadata": {},
     "output_type": "display_data"
    }
   ],
   "source": [
    "# Représentation des résidus en fonction des valeurs prédites\n",
    "plt.figure(figsize=(6,6))\n",
    "\n",
    "plt.scatter(modele1.resid, modele1.predict())\n",
    "\n",
    "plt.ylabel('Résidus')\n",
    "plt.xlabel('Valeurs prédites')\n",
    "plt.title('Nuage de point des residus\\n en fonction des valeurs prédites')\n",
    "\n",
    "plt.savefig('graph_homoscedasticity1.png')\n",
    "plt.show()"
   ]
  },
  {
   "cell_type": "code",
   "execution_count": 236,
   "id": "c76e8cb0",
   "metadata": {},
   "outputs": [
    {
     "data": {
      "image/png": "[encoded data removed]",
      "text/plain": [
       "<Figure size 432x432 with 1 Axes>"
      ]
     },
     "metadata": {},
     "output_type": "display_data"
    }
   ],
   "source": [
    "# Représentation des résidus en fonction des valeurs prédites\n",
    "plt.figure(figsize=(6,6))\n",
    "\n",
    "plt.scatter(modele2.resid, modele2.predict())\n",
    "\n",
    "plt.ylabel('Résidus')\n",
    "plt.xlabel('Valeurs prédites')\n",
    "plt.title('Nuage de point des residus\\n en fonction des valeurs prédites')\n",
    "\n",
    "plt.savefig('graph_homoscedasticity2.png')\n",
    "plt.show()"
   ]
  },
  {
   "cell_type": "markdown",
   "id": "d1712abd",
   "metadata": {},
   "source": [
    "## Détection des points atypiques et influents"
   ]
  },
  {
   "cell_type": "markdown",
   "id": "550be171",
   "metadata": {},
   "source": [
    "Les deux précédents modèles, issus du résultat de la régression, seront utilisés pour analyser les points influents.\n",
    "\n",
    "Les tests seront fait à un niveau α = 5 %\n",
    "\n",
    "n sera le nombre d'individus de l'échantillon, et p , le nombre de variables :"
   ]
  },
  {
   "cell_type": "code",
   "execution_count": 237,
   "id": "02ba1672",
   "metadata": {},
   "outputs": [],
   "source": [
    "alpha = .05\n",
    "n = len(data_wid500)\n",
    "p = 3"
   ]
  },
  {
   "cell_type": "code",
   "execution_count": 238,
   "id": "438925ef",
   "metadata": {},
   "outputs": [
    {
     "data": {
      "text/html": [
       "<div>\n",
       "<style scoped>\n",
       "    .dataframe tbody tr th:only-of-type {\n",
       "        vertical-align: middle;\n",
       "    }\n",
       "\n",
       "    .dataframe tbody tr th {\n",
       "        vertical-align: top;\n",
       "    }\n",
       "\n",
       "    .dataframe thead th {\n",
       "        text-align: right;\n",
       "    }\n",
       "</style>\n",
       "<table border=\"1\" class=\"dataframe\">\n",
       "  <thead>\n",
       "    <tr style=\"text-align: right;\">\n",
       "      <th></th>\n",
       "      <th>country</th>\n",
       "      <th>y_child</th>\n",
       "      <th>Gj</th>\n",
       "      <th>pj</th>\n",
       "      <th>c_i_parent</th>\n",
       "      <th>mj</th>\n",
       "      <th>ln_y_child</th>\n",
       "      <th>ln_mj</th>\n",
       "    </tr>\n",
       "  </thead>\n",
       "  <tbody>\n",
       "    <tr>\n",
       "      <th>0</th>\n",
       "      <td>Albania</td>\n",
       "      <td>728.89795</td>\n",
       "      <td>0.3</td>\n",
       "      <td>0.815874</td>\n",
       "      <td>1</td>\n",
       "      <td>2994.829902</td>\n",
       "      <td>8.004643</td>\n",
       "      <td>6.591534</td>\n",
       "    </tr>\n",
       "    <tr>\n",
       "      <th>1</th>\n",
       "      <td>Albania</td>\n",
       "      <td>916.66235</td>\n",
       "      <td>0.3</td>\n",
       "      <td>0.815874</td>\n",
       "      <td>1</td>\n",
       "      <td>2994.829902</td>\n",
       "      <td>8.004643</td>\n",
       "      <td>6.820739</td>\n",
       "    </tr>\n",
       "    <tr>\n",
       "      <th>2</th>\n",
       "      <td>Albania</td>\n",
       "      <td>1010.91600</td>\n",
       "      <td>0.3</td>\n",
       "      <td>0.815874</td>\n",
       "      <td>1</td>\n",
       "      <td>2994.829902</td>\n",
       "      <td>8.004643</td>\n",
       "      <td>6.918612</td>\n",
       "    </tr>\n",
       "    <tr>\n",
       "      <th>3</th>\n",
       "      <td>Albania</td>\n",
       "      <td>1086.90780</td>\n",
       "      <td>0.3</td>\n",
       "      <td>0.815874</td>\n",
       "      <td>1</td>\n",
       "      <td>2994.829902</td>\n",
       "      <td>8.004643</td>\n",
       "      <td>6.991092</td>\n",
       "    </tr>\n",
       "    <tr>\n",
       "      <th>4</th>\n",
       "      <td>Albania</td>\n",
       "      <td>1132.69970</td>\n",
       "      <td>0.3</td>\n",
       "      <td>0.815874</td>\n",
       "      <td>1</td>\n",
       "      <td>2994.829902</td>\n",
       "      <td>8.004643</td>\n",
       "      <td>7.032359</td>\n",
       "    </tr>\n",
       "  </tbody>\n",
       "</table>\n",
       "</div>"
      ],
      "text/plain": [
       "   country     y_child   Gj        pj  c_i_parent           mj  ln_y_child  \\\n",
       "0  Albania   728.89795  0.3  0.815874           1  2994.829902    8.004643   \n",
       "1  Albania   916.66235  0.3  0.815874           1  2994.829902    8.004643   \n",
       "2  Albania  1010.91600  0.3  0.815874           1  2994.829902    8.004643   \n",
       "3  Albania  1086.90780  0.3  0.815874           1  2994.829902    8.004643   \n",
       "4  Albania  1132.69970  0.3  0.815874           1  2994.829902    8.004643   \n",
       "\n",
       "      ln_mj  \n",
       "0  6.591534  \n",
       "1  6.820739  \n",
       "2  6.918612  \n",
       "3  6.991092  \n",
       "4  7.032359  "
      ]
     },
     "execution_count": 238,
     "metadata": {},
     "output_type": "execute_result"
    }
   ],
   "source": [
    "#Création d'un dataframe spécifique à l'analyse des modèles\n",
    "analyse = data_wid500.copy()\n",
    "analyse.head()"
   ]
  },
  {
   "cell_type": "markdown",
   "id": "eb69a8ad",
   "metadata": {},
   "source": [
    "### Analyse des leviers avec seuil :"
   ]
  },
  {
   "cell_type": "markdown",
   "id": "4c8ae924",
   "metadata": {},
   "source": [
    "Le seuil des leviers est de 2*p/n\n",
    " \n",
    "\n",
    "Il est important d'identifier les observations qui peuvent fausser les résultats de la régression."
   ]
  },
  {
   "cell_type": "code",
   "execution_count": 239,
   "id": "53f6f02d",
   "metadata": {},
   "outputs": [],
   "source": [
    "seuil_levier = 2*p/n"
   ]
  },
  {
   "cell_type": "code",
   "execution_count": 240,
   "id": "24333570",
   "metadata": {},
   "outputs": [
    {
     "data": {
      "text/html": [
       "<div>\n",
       "<style scoped>\n",
       "    .dataframe tbody tr th:only-of-type {\n",
       "        vertical-align: middle;\n",
       "    }\n",
       "\n",
       "    .dataframe tbody tr th {\n",
       "        vertical-align: top;\n",
       "    }\n",
       "\n",
       "    .dataframe thead th {\n",
       "        text-align: right;\n",
       "    }\n",
       "</style>\n",
       "<table border=\"1\" class=\"dataframe\">\n",
       "  <thead>\n",
       "    <tr style=\"text-align: right;\">\n",
       "      <th></th>\n",
       "      <th>country</th>\n",
       "      <th>y_child</th>\n",
       "      <th>Gj</th>\n",
       "      <th>pj</th>\n",
       "      <th>c_i_parent</th>\n",
       "      <th>mj</th>\n",
       "      <th>ln_y_child</th>\n",
       "      <th>ln_mj</th>\n",
       "      <th>levier_modele1</th>\n",
       "      <th>levier_modele2</th>\n",
       "    </tr>\n",
       "  </thead>\n",
       "  <tbody>\n",
       "    <tr>\n",
       "      <th>3249999</th>\n",
       "      <td>Latvia</td>\n",
       "      <td>35658.3870</td>\n",
       "      <td>0.36</td>\n",
       "      <td>0.889911</td>\n",
       "      <td>100</td>\n",
       "      <td>6764.47457</td>\n",
       "      <td>8.81944</td>\n",
       "      <td>10.481740</td>\n",
       "      <td>1.801551e-07</td>\n",
       "      <td>1.938057e-06</td>\n",
       "    </tr>\n",
       "    <tr>\n",
       "      <th>3216670</th>\n",
       "      <td>Latvia</td>\n",
       "      <td>7634.2153</td>\n",
       "      <td>0.36</td>\n",
       "      <td>0.889911</td>\n",
       "      <td>28</td>\n",
       "      <td>6764.47457</td>\n",
       "      <td>8.81944</td>\n",
       "      <td>8.940395</td>\n",
       "      <td>1.801551e-07</td>\n",
       "      <td>1.823514e-07</td>\n",
       "    </tr>\n",
       "    <tr>\n",
       "      <th>3216669</th>\n",
       "      <td>Latvia</td>\n",
       "      <td>7569.3670</td>\n",
       "      <td>0.36</td>\n",
       "      <td>0.889911</td>\n",
       "      <td>28</td>\n",
       "      <td>6764.47457</td>\n",
       "      <td>8.81944</td>\n",
       "      <td>8.931865</td>\n",
       "      <td>1.801551e-07</td>\n",
       "      <td>1.820720e-07</td>\n",
       "    </tr>\n",
       "    <tr>\n",
       "      <th>3216668</th>\n",
       "      <td>Latvia</td>\n",
       "      <td>7444.0474</td>\n",
       "      <td>0.36</td>\n",
       "      <td>0.889911</td>\n",
       "      <td>28</td>\n",
       "      <td>6764.47457</td>\n",
       "      <td>8.81944</td>\n",
       "      <td>8.915170</td>\n",
       "      <td>1.801551e-07</td>\n",
       "      <td>1.815817e-07</td>\n",
       "    </tr>\n",
       "    <tr>\n",
       "      <th>3216667</th>\n",
       "      <td>Latvia</td>\n",
       "      <td>7360.1650</td>\n",
       "      <td>0.36</td>\n",
       "      <td>0.889911</td>\n",
       "      <td>28</td>\n",
       "      <td>6764.47457</td>\n",
       "      <td>8.81944</td>\n",
       "      <td>8.903838</td>\n",
       "      <td>1.801551e-07</td>\n",
       "      <td>1.812899e-07</td>\n",
       "    </tr>\n",
       "  </tbody>\n",
       "</table>\n",
       "</div>"
      ],
      "text/plain": [
       "        country     y_child    Gj        pj  c_i_parent          mj  \\\n",
       "3249999  Latvia  35658.3870  0.36  0.889911         100  6764.47457   \n",
       "3216670  Latvia   7634.2153  0.36  0.889911          28  6764.47457   \n",
       "3216669  Latvia   7569.3670  0.36  0.889911          28  6764.47457   \n",
       "3216668  Latvia   7444.0474  0.36  0.889911          28  6764.47457   \n",
       "3216667  Latvia   7360.1650  0.36  0.889911          28  6764.47457   \n",
       "\n",
       "         ln_y_child      ln_mj  levier_modele1  levier_modele2  \n",
       "3249999     8.81944  10.481740    1.801551e-07    1.938057e-06  \n",
       "3216670     8.81944   8.940395    1.801551e-07    1.823514e-07  \n",
       "3216669     8.81944   8.931865    1.801551e-07    1.820720e-07  \n",
       "3216668     8.81944   8.915170    1.801551e-07    1.815817e-07  \n",
       "3216667     8.81944   8.903838    1.801551e-07    1.812899e-07  "
      ]
     },
     "execution_count": 240,
     "metadata": {},
     "output_type": "execute_result"
    }
   ],
   "source": [
    "#Intégration de deux variables spécifiques à chacun des modèles\n",
    "analyse['levier_modele1'] = modele1.get_influence().hat_matrix_diag\n",
    "analyse['levier_modele2'] = modele2.get_influence().hat_matrix_diag\n",
    "analyse.sort_values(by='levier_modele1').head()"
   ]
  },
  {
   "cell_type": "code",
   "execution_count": 241,
   "id": "36705a3c",
   "metadata": {},
   "outputs": [
    {
     "data": {
      "text/html": [
       "<div>\n",
       "<style scoped>\n",
       "    .dataframe tbody tr th:only-of-type {\n",
       "        vertical-align: middle;\n",
       "    }\n",
       "\n",
       "    .dataframe tbody tr th {\n",
       "        vertical-align: top;\n",
       "    }\n",
       "\n",
       "    .dataframe thead th {\n",
       "        text-align: right;\n",
       "    }\n",
       "</style>\n",
       "<table border=\"1\" class=\"dataframe\">\n",
       "  <thead>\n",
       "    <tr style=\"text-align: right;\">\n",
       "      <th></th>\n",
       "      <th>country</th>\n",
       "      <th>levier_modele1</th>\n",
       "      <th>levier_modele2</th>\n",
       "    </tr>\n",
       "  </thead>\n",
       "  <tbody>\n",
       "    <tr>\n",
       "      <th>0</th>\n",
       "      <td>Albania</td>\n",
       "      <td>4.258774e-07</td>\n",
       "      <td>3.707869e-07</td>\n",
       "    </tr>\n",
       "    <tr>\n",
       "      <th>1</th>\n",
       "      <td>Argentina</td>\n",
       "      <td>2.947467e-07</td>\n",
       "      <td>3.599653e-07</td>\n",
       "    </tr>\n",
       "    <tr>\n",
       "      <th>2</th>\n",
       "      <td>Armenia</td>\n",
       "      <td>7.354429e-07</td>\n",
       "      <td>5.980482e-07</td>\n",
       "    </tr>\n",
       "    <tr>\n",
       "      <th>3</th>\n",
       "      <td>Austria</td>\n",
       "      <td>6.670603e-07</td>\n",
       "      <td>7.021069e-07</td>\n",
       "    </tr>\n",
       "    <tr>\n",
       "      <th>4</th>\n",
       "      <td>Azerbaijan</td>\n",
       "      <td>4.119079e-07</td>\n",
       "      <td>3.432202e-07</td>\n",
       "    </tr>\n",
       "  </tbody>\n",
       "</table>\n",
       "</div>"
      ],
      "text/plain": [
       "      country  levier_modele1  levier_modele2\n",
       "0     Albania    4.258774e-07    3.707869e-07\n",
       "1   Argentina    2.947467e-07    3.599653e-07\n",
       "2     Armenia    7.354429e-07    5.980482e-07\n",
       "3     Austria    6.670603e-07    7.021069e-07\n",
       "4  Azerbaijan    4.119079e-07    3.432202e-07"
      ]
     },
     "execution_count": 241,
     "metadata": {},
     "output_type": "execute_result"
    }
   ],
   "source": [
    "#Agrégation des données selon leurs pays, vision simplifiée du couple pays/levier\n",
    "#Simplification du dataframe pour une visualisation et interprétation plus rapide\n",
    "analyse_levier = analyse.groupby('country')[['country', 'levier_modele1', 'levier_modele2']].mean().reset_index()\n",
    "analyse_levier.head()"
   ]
  },
  {
   "cell_type": "code",
   "execution_count": 242,
   "id": "1c4d2786",
   "metadata": {},
   "outputs": [
    {
     "data": {
      "image/png": "[encoded data removed]",
      "text/plain": [
       "<Figure size 1440x720 with 1 Axes>"
      ]
     },
     "metadata": {},
     "output_type": "display_data"
    }
   ],
   "source": [
    "#Visualisation des leviers du Modèle 1 par pays avec représentation du seuil\n",
    "plt.figure(figsize=(20,10))\n",
    "\n",
    "plt.bar(analyse_levier.loc[analyse_levier['levier_modele1'] <= seuil_levier]['country'].index,\n",
    "        analyse_levier.loc[analyse_levier['levier_modele1'] <= seuil_levier]['levier_modele1'], color='b')\n",
    "plt.bar(analyse_levier.loc[analyse_levier['levier_modele1'] > seuil_levier]['country'].index,\n",
    "        analyse_levier.loc[analyse_levier['levier_modele1'] > seuil_levier]['levier_modele1'], color='r')\n",
    "plt.plot([0, 116], [seuil_levier, seuil_levier], color='y')\n",
    "\n",
    "plt.xlabel('Observation Pays', fontsize=15, fontweight='bold')\n",
    "plt.ylabel('Leviers Modèle 1', fontsize=15, fontweight='bold')\n",
    "plt.title('Analyse graphique des leviers du Modèle 1 > seuil', fontsize=20, fontweight='bold')\n",
    "\n",
    "plt.savefig('graphic_levier_modele1.jpg')\n",
    "plt.show()"
   ]
  },
  {
   "cell_type": "code",
   "execution_count": 243,
   "id": "55e9b983",
   "metadata": {},
   "outputs": [
    {
     "data": {
      "image/png": "[encoded data removed]",
      "text/plain": [
       "<Figure size 1440x720 with 1 Axes>"
      ]
     },
     "metadata": {},
     "output_type": "display_data"
    }
   ],
   "source": [
    "#Visualisation des leviers du Modèle 2 par pays avec représentation du seuil\n",
    "plt.figure(figsize=(20,10))\n",
    "\n",
    "plt.bar(analyse_levier.loc[analyse_levier['levier_modele2'] <= seuil_levier]['country'].index,\n",
    "        analyse_levier.loc[analyse_levier['levier_modele2'] <= seuil_levier]['levier_modele2'], color='b')\n",
    "plt.bar(analyse_levier.loc[analyse_levier['levier_modele2'] > seuil_levier]['country'].index,\n",
    "        analyse_levier.loc[analyse_levier['levier_modele2'] > seuil_levier]['levier_modele2'], color='r')\n",
    "plt.plot([0, 116], [seuil_levier, seuil_levier], color='y')\n",
    "\n",
    "plt.xlabel('Observation Pays', fontsize=15, fontweight='bold')\n",
    "plt.ylabel('Leviers Modèle 2', fontsize=15, fontweight='bold')\n",
    "plt.title('Analyse graphique des leviers du Modèle 2 > seuil', fontsize=20, fontweight='bold')\n",
    "\n",
    "plt.savefig('graphic_levier_modele2.jpg')\n",
    "plt.show()\n"
   ]
  },
  {
   "cell_type": "markdown",
   "id": "246be8f3",
   "metadata": {},
   "source": [
    "Il faut pouvoir jongler entre des observations graphiques et des métriques qui permettent de quantifier avec plus de précision une tendance, etc… Ici, il est nécessaire de ne pas s'arrêter aux précédents diagrammes, voyons immédiatement à quoi correspondent ces leviers, quels sont ces pays hors seuil?"
   ]
  },
  {
   "cell_type": "code",
   "execution_count": 244,
   "id": "1ea37981",
   "metadata": {},
   "outputs": [
    {
     "name": "stdout",
     "output_type": "stream",
     "text": [
      "Pays issus du Modèle 1 sans log.\n"
     ]
    },
    {
     "data": {
      "text/plain": [
       "16             Canada\n",
       "41           Honduras\n",
       "43            Iceland\n",
       "61         Luxembourg\n",
       "77             Norway\n",
       "93       South Africa\n",
       "109    United Kingdom\n",
       "111     United States\n",
       "Name: country, dtype: object"
      ]
     },
     "metadata": {},
     "output_type": "display_data"
    },
    {
     "name": "stdout",
     "output_type": "stream",
     "text": [
      "Pays issus du Modèle 2 avec log.\n"
     ]
    },
    {
     "data": {
      "text/plain": [
       "16             Canada\n",
       "20           Colombia\n",
       "41           Honduras\n",
       "43            Iceland\n",
       "61         Luxembourg\n",
       "77             Norway\n",
       "93       South Africa\n",
       "109    United Kingdom\n",
       "111     United States\n",
       "Name: country, dtype: object"
      ]
     },
     "metadata": {},
     "output_type": "display_data"
    }
   ],
   "source": [
    "#Liste des pays dont le levier est supérieur au seuil fixé\n",
    "print('Pays issus du Modèle 1 sans log.')\n",
    "display(analyse_levier[analyse_levier['levier_modele1'] > seuil_levier]['country'])\n",
    "print('Pays issus du Modèle 2 avec log.')\n",
    "display(analyse_levier[analyse_levier['levier_modele2'] > seuil_levier]['country'])\n"
   ]
  },
  {
   "cell_type": "code",
   "execution_count": 245,
   "id": "d7010102",
   "metadata": {},
   "outputs": [
    {
     "name": "stdout",
     "output_type": "stream",
     "text": [
      "Modèle 1: 6.9%\n",
      "Modèle 2 (avec log): 7.76%\n"
     ]
    }
   ],
   "source": [
    "#Pourcentage de pays hors seuil levier\n",
    "print(\"Modèle 1: \" + str(round(len(analyse_levier[analyse_levier['levier_modele1'] \n",
    "                    > seuil_levier])/len(analyse_levier['levier_modele1'])*100, 2)) + '%')\n",
    "print(\"Modèle 2 (avec log): \" + str(round(len(analyse_levier[analyse_levier['levier_modele2'] \n",
    "                    > seuil_levier])/len(analyse_levier['levier_modele2'])*100, 2)) + '%')"
   ]
  },
  {
   "cell_type": "markdown",
   "id": "3d8b791d",
   "metadata": {},
   "source": [
    "Le Modèle 2, avec un R² = 0.797, est globalement significatif à 8%. En comparaison le premier Modèle, sans logarithme, se révèle être moins significatif. Son R² = 0.496 plus faible mais avec le diagnostic des leviers, on constate également qu'un plus grand nombre de pays viennent influencer le Modèle 1 (6.9% contre 7.76% avec le Modèle 2)."
   ]
  },
  {
   "cell_type": "markdown",
   "id": "5442d5c5",
   "metadata": {},
   "source": [
    "## Analyse des résidus studentisés (standardisés) :"
   ]
  },
  {
   "cell_type": "markdown",
   "id": "68a57094",
   "metadata": {},
   "source": [
    "Le seuil pour les résidus studentisés est une loi de Student à n-p-1 degrés de liberté.\n",
    "\n",
    "Il nécessaire d'observer le rôle conjoint du levier et du résidu standardisé."
   ]
  },
  {
   "cell_type": "code",
   "execution_count": 246,
   "id": "5c30c401",
   "metadata": {},
   "outputs": [],
   "source": [
    "#Intégration de deux nouvelles variables propres à chaque modèle\n",
    "analyse['rstudent_modele1'] = modele1.get_influence().resid_studentized_internal\n",
    "analyse['rstudent_modele2'] = modele2.get_influence().resid_studentized_internal\n",
    "\n",
    "seuil_rstudent = t.ppf(1-alpha/2,n-p-1)"
   ]
  },
  {
   "cell_type": "code",
   "execution_count": 247,
   "id": "311c4dc5",
   "metadata": {},
   "outputs": [],
   "source": [
    "#Agrégation des données selon leurs pays, vision simplifiée du couple pays-individu/rstudent\n",
    "#Simplification du dataframe pour une visualisation et interprétation plus rapide\n",
    "analyse_rstudent = analyse.groupby(['country', 'y_child']).mean().reset_index()"
   ]
  },
  {
   "cell_type": "code",
   "execution_count": 248,
   "id": "4ddca36a",
   "metadata": {},
   "outputs": [
    {
     "data": {
      "image/png": "[encoded data removed]",
      "text/plain": [
       "<Figure size 1440x720 with 1 Axes>"
      ]
     },
     "metadata": {},
     "output_type": "display_data"
    }
   ],
   "source": [
    "#Visualisation globale des résidus studentisés du Modèle 1 avec représentation du seuil\n",
    "plt.figure(figsize=(20,10))\n",
    "\n",
    "plt.bar(analyse_rstudent[(analyse_rstudent['rstudent_modele1'] <= seuil_rstudent) & \n",
    "                            (analyse_rstudent['rstudent_modele1'] >= -seuil_rstudent)]['country'].index, \n",
    "        analyse_rstudent[(analyse_rstudent['rstudent_modele1'] <= seuil_rstudent) &\n",
    "                            (analyse_rstudent['rstudent_modele1'] >= -seuil_rstudent)]['rstudent_modele1'], color='b')\n",
    "\n",
    "plt.bar(analyse_rstudent[analyse_rstudent['rstudent_modele1'] > seuil_rstudent]['country'].index, \n",
    "        analyse_rstudent[analyse_rstudent['rstudent_modele1'] > seuil_rstudent]['rstudent_modele1'], color='r')\n",
    "plt.bar(analyse_rstudent[analyse_rstudent['rstudent_modele1'] < -seuil_rstudent]['country'].index, \n",
    "        analyse_rstudent[analyse_rstudent['rstudent_modele1'] < -seuil_rstudent]['rstudent_modele1'], color='r')\n",
    "\n",
    "\n",
    "plt.axhline(y=seuil_rstudent, color='y', linestyle='-')\n",
    "plt.axhline(y=-seuil_rstudent, color='y', linestyle='-')\n",
    "\n",
    "plt.xlabel('Observations', fontsize=15, fontweight='bold')\n",
    "plt.ylabel('Résidus studentisés Modèle 1', fontsize=15, fontweight='bold')\n",
    "plt.title('Analyse graphique des résidus studentisés du Modèle 1', fontsize=20, fontweight='bold')\n",
    "\n",
    "plt.ylim(-3, 10)\n",
    "plt.savefig('p7_graphic_residus_studentises_modele1.jpg')\n",
    "plt.show()"
   ]
  },
  {
   "cell_type": "code",
   "execution_count": 249,
   "id": "c0811e6f",
   "metadata": {},
   "outputs": [
    {
     "data": {
      "image/png": "[encoded data removed]",
      "text/plain": [
       "<Figure size 1440x720 with 1 Axes>"
      ]
     },
     "metadata": {},
     "output_type": "display_data"
    }
   ],
   "source": [
    "#Visualisation globale des résidus studentisés du Modèle 2 avec représentation du seuil\n",
    "plt.figure(figsize=(20,10))\n",
    "\n",
    "plt.bar(analyse_rstudent[(analyse_rstudent['rstudent_modele2'] <= seuil_rstudent) & \n",
    "                            (analyse_rstudent['rstudent_modele2'] >= -seuil_rstudent)]['country'].index, \n",
    "        analyse_rstudent[(analyse_rstudent['rstudent_modele2'] <= seuil_rstudent) &\n",
    "                            (analyse_rstudent['rstudent_modele2'] >= -seuil_rstudent)]['rstudent_modele2'], color='b')\n",
    "\n",
    "plt.bar(analyse_rstudent[analyse_rstudent['rstudent_modele2'] > seuil_rstudent]['country'].index, \n",
    "        analyse_rstudent[analyse_rstudent['rstudent_modele2'] > seuil_rstudent]['rstudent_modele2'], color='r')\n",
    "plt.bar(analyse_rstudent[analyse_rstudent['rstudent_modele2'] < -seuil_rstudent]['country'].index, \n",
    "        analyse_rstudent[analyse_rstudent['rstudent_modele2'] < -seuil_rstudent]['rstudent_modele2'], color='r')\n",
    "\n",
    "plt.axhline(y=seuil_rstudent, color='y', linestyle='-')\n",
    "plt.axhline(y=-seuil_rstudent, color='y', linestyle='-')\n",
    "\n",
    "plt.xlabel('Observations', fontsize=15, fontweight='bold')\n",
    "plt.ylabel('Résidus studentisés Modèle 2', fontsize=15, fontweight='bold')\n",
    "plt.title('Analyse graphique des résidus studentisés du Modèle 2', fontsize=20, fontweight='bold')\n",
    "\n",
    "plt.ylim(-5, 5)\n",
    "plt.savefig('p7_graphic-residus_studentises_model2.jpg')\n",
    "plt.show()"
   ]
  },
  {
   "cell_type": "markdown",
   "id": "910bdbb8",
   "metadata": {},
   "source": [
    "L'approche comparative visuelle n'apporte pas de conclusion significative. Il y a forcément des résidus hors seuil, mais à partir des graphiques l'analyse s'arrête là. Voyons en pourcentage ce que peut représenter ces observations plus influentes que les autres."
   ]
  },
  {
   "cell_type": "code",
   "execution_count": 250,
   "id": "4d6b0f05",
   "metadata": {},
   "outputs": [
    {
     "name": "stdout",
     "output_type": "stream",
     "text": [
      "410 Valeurs influentes dans le Modèle 1 (sans log)\n",
      "409 Valeurs influentes dans le Modèle 2 (avec log)\n"
     ]
    }
   ],
   "source": [
    "#Comparaison du nombre de valeurs influentes sur les deux modèles\n",
    "print(str(len(analyse_rstudent[(analyse_rstudent['rstudent_modele1'] > seuil_rstudent) | \n",
    "                 (analyse_rstudent['rstudent_modele1'] < -seuil_rstudent)])), \n",
    "                 'Valeurs influentes dans le Modèle 1 (sans log)')\n",
    "\n",
    "print(str(len(analyse_rstudent[(analyse_rstudent['rstudent_modele2'] > seuil_rstudent) | \n",
    "                 (analyse_rstudent['rstudent_modele2'] < -seuil_rstudent)])), \n",
    "                 'Valeurs influentes dans le Modèle 2 (avec log)')"
   ]
  },
  {
   "cell_type": "code",
   "execution_count": 251,
   "id": "105d12e8",
   "metadata": {},
   "outputs": [
    {
     "name": "stdout",
     "output_type": "stream",
     "text": [
      "Modèle 1: 3.53%\n",
      "Modèle 2 (avec log): 0.86%\n"
     ]
    }
   ],
   "source": [
    "#Pourcentage des observations les plus influentes (hors seuil)\n",
    "print(\"Modèle 1: \" + str((round(410 / len(analyse_rstudent['rstudent_modele1'])*100, 2))) + \"%\")\n",
    "print(\"Modèle 2 (avec log): \" + str((round(100/ len(analyse_rstudent['rstudent_modele2'])*100, 2))) + \"%\")"
   ]
  },
  {
   "cell_type": "markdown",
   "id": "8065a65a",
   "metadata": {},
   "source": [
    "Les deux modèles proposés présentent entre 3.53% et 0.86% de résidus, celà doit-être combiné avec les valeurs influentes trouvées avec le critère des leviers. Le Modèle 1 avec logarithme reste le favori, la variance est certe mieux expliquée, mais désormais nous avons une idée plus précises des pays influents via les leviers, c'est-à-dire 7.76% sur le second modèle, mais également une idée de la part des observations dont les résidus standardisés approchent les 7%."
   ]
  },
  {
   "cell_type": "markdown",
   "id": "2f0de33f",
   "metadata": {},
   "source": [
    "## Analyse de la distance de Cook :"
   ]
  },
  {
   "cell_type": "markdown",
   "id": "2923e7c2",
   "metadata": {},
   "source": [
    "Toujours à l'aide de statsmodels la distance de Cook permettra de mieux estimer les influents."
   ]
  },
  {
   "cell_type": "code",
   "execution_count": 252,
   "id": "e6748404",
   "metadata": {},
   "outputs": [],
   "source": [
    "influence1 = modele1.get_influence()\n",
    "influence2 = modele2.get_influence()\n",
    "\n",
    "cooks_d1 = influence1.cooks_distance[0]\n",
    "cooks_d2 = influence2.cooks_distance[0]"
   ]
  },
  {
   "cell_type": "code",
   "execution_count": 253,
   "id": "99087793",
   "metadata": {},
   "outputs": [],
   "source": [
    "#Intégration des distances de Cook dans \"analyse\"\n",
    "analyse['dcooks1'] = cooks_d1\n",
    "analyse['dcooks2'] = cooks_d2"
   ]
  },
  {
   "cell_type": "code",
   "execution_count": 254,
   "id": "cd863fb6",
   "metadata": {},
   "outputs": [],
   "source": [
    "#Seuil de la distance de Cook est de n-p. \n",
    "seuil_dcook = 4/(n-p)"
   ]
  },
  {
   "cell_type": "code",
   "execution_count": 255,
   "id": "f7f7a80b",
   "metadata": {},
   "outputs": [],
   "source": [
    "#Simplification des données propres aux distances de Cook des deux modèles\n",
    "analyse_dcook = analyse.groupby(['country', 'c_i_parent']).mean().reset_index()"
   ]
  },
  {
   "cell_type": "code",
   "execution_count": 256,
   "id": "1d77d449",
   "metadata": {},
   "outputs": [
    {
     "data": {
      "image/png": "[encoded data removed]",
      "text/plain": [
       "<Figure size 1440x720 with 1 Axes>"
      ]
     },
     "metadata": {},
     "output_type": "display_data"
    }
   ],
   "source": [
    "#Visualisation globale des distances de Cook du Modèle 1 avec représentation du seuil\n",
    "plt.figure(figsize=(20,10))\n",
    "\n",
    "plt.bar(analyse_dcook.loc[analyse_dcook['dcooks1'] < seuil_dcook]['country'].index,\n",
    "        analyse_dcook.loc[analyse_dcook['dcooks1'] < seuil_dcook]['dcooks1'], color='b')\n",
    "plt.bar(analyse_dcook.loc[analyse_dcook['dcooks1'] >= seuil_dcook]['country'].index,\n",
    "        analyse_dcook.loc[analyse_dcook['dcooks1'] >= seuil_dcook]['dcooks1'], color='r')\n",
    "\n",
    "plt.plot([0, 12000], [seuil_dcook, seuil_dcook], color='y')\n",
    "plt.ylim(0, 0.000003)\n",
    "\n",
    "plt.xlabel('Observations', fontsize=15, fontweight='bold')\n",
    "plt.ylabel('Distances de Cook', fontsize=15, fontweight='bold')\n",
    "plt.title('Analyse graphique des distances de Cook Modèle 1', fontsize=20, fontweight='bold')\n",
    "\n",
    "plt.savefig('p7_graphic_dcook_model1.jpg')\n",
    "plt.show()\n"
   ]
  },
  {
   "cell_type": "code",
   "execution_count": 257,
   "id": "9cdc86c1",
   "metadata": {},
   "outputs": [
    {
     "data": {
      "image/png": "[encoded data removed]",
      "text/plain": [
       "<Figure size 1440x720 with 1 Axes>"
      ]
     },
     "metadata": {},
     "output_type": "display_data"
    }
   ],
   "source": [
    "#Visualisation globale des distances de Cook du Modèle 2 avec représentation du seuil\n",
    "plt.figure(figsize=(20,10))\n",
    "\n",
    "plt.bar(analyse_dcook.loc[analyse_dcook['dcooks2'] < seuil_dcook]['country'].index,\n",
    "        analyse_dcook.loc[analyse_dcook['dcooks2'] < seuil_dcook]['dcooks2'], color='b')\n",
    "plt.bar(analyse_dcook.loc[analyse_dcook['dcooks2'] >= seuil_dcook]['country'].index,\n",
    "        analyse_dcook.loc[analyse_dcook['dcooks2'] >= seuil_dcook]['dcooks2'], color='r')\n",
    "\n",
    "plt.plot([0, 12000], [seuil_dcook, seuil_dcook], color='y')\n",
    "plt.ylim(0, 0.000003)\n",
    "\n",
    "plt.xlabel('Observations', fontsize=15, fontweight='bold')\n",
    "plt.ylabel('Distances de Cook', fontsize=15, fontweight='bold')\n",
    "plt.title('Analyse graphique des distances de Cook Modèle 2', fontsize=20, fontweight='bold')\n",
    "\n",
    "plt.savefig('p7_graphic_dcook_model2.jpg')\n",
    "plt.show()\n"
   ]
  },
  {
   "cell_type": "code",
   "execution_count": 258,
   "id": "ea289be6",
   "metadata": {},
   "outputs": [
    {
     "name": "stdout",
     "output_type": "stream",
     "text": [
      "1150 valeurs influentes dans le Modèle 1\n",
      "1664 valeurs influentes dans le Modèle 2\n"
     ]
    }
   ],
   "source": [
    "#Nombre d'observations influentes sur le critère de la distance de Cook\n",
    "print(str(len(analyse_dcook[analyse_dcook['dcooks1'] > seuil_dcook])), 'valeurs influentes dans le Modèle 1')\n",
    "print(str(len(analyse_dcook[analyse_dcook['dcooks2'] > seuil_dcook])), 'valeurs influentes dans le Modèle 2')"
   ]
  },
  {
   "cell_type": "code",
   "execution_count": 259,
   "id": "371efd1b",
   "metadata": {},
   "outputs": [
    {
     "name": "stdout",
     "output_type": "stream",
     "text": [
      "Modèle 1: 5.05%\n",
      "Modèle 2 (avec log): 5.71%\n"
     ]
    }
   ],
   "source": [
    "#Pourcentage des observations les plus influentes (hors seuil)\n",
    "print(\"Modèle 1: \" + str((round(586 / len(analyse_dcook)*100, 2))) + \"%\")\n",
    "print(\"Modèle 2 (avec log): \" + str((round(662 / len(analyse_dcook)*100, 2))) + \"%\")"
   ]
  },
  {
   "cell_type": "markdown",
   "id": "81560b9d",
   "metadata": {},
   "source": [
    "Sur ce critère de distance de Cook, les deux modèles sont plus ou moins identiques, on sait désormais que celà représente 5% des observations."
   ]
  },
  {
   "cell_type": "markdown",
   "id": "6a5e51a2",
   "metadata": {},
   "source": [
    "## Amélioration du modèle le plus performant en incluant la classe de revenu des parents"
   ]
  },
  {
   "cell_type": "markdown",
   "id": "a309e281",
   "metadata": {},
   "source": [
    "Le précédent modèle en logarithme (ln) peut sans doute être encore optimisé en incluant une nouvelle variable, ici la classe de revenu des parents. Le modèle qui ressortira sera normalement plus performant, ce qui nous donnera également la part d'influence que peut avoir ce type de données sur le revenu des individus."
   ]
  },
  {
   "cell_type": "code",
   "execution_count": 260,
   "id": "03241ab9",
   "metadata": {},
   "outputs": [
    {
     "data": {
      "text/html": [
       "<div>\n",
       "<style scoped>\n",
       "    .dataframe tbody tr th:only-of-type {\n",
       "        vertical-align: middle;\n",
       "    }\n",
       "\n",
       "    .dataframe tbody tr th {\n",
       "        vertical-align: top;\n",
       "    }\n",
       "\n",
       "    .dataframe thead th {\n",
       "        text-align: right;\n",
       "    }\n",
       "</style>\n",
       "<table border=\"1\" class=\"dataframe\">\n",
       "  <thead>\n",
       "    <tr style=\"text-align: right;\">\n",
       "      <th></th>\n",
       "      <th>country</th>\n",
       "      <th>y_child</th>\n",
       "      <th>Gj</th>\n",
       "      <th>pj</th>\n",
       "      <th>c_i_parent</th>\n",
       "      <th>mj</th>\n",
       "      <th>ln_y_child</th>\n",
       "      <th>ln_mj</th>\n",
       "    </tr>\n",
       "  </thead>\n",
       "  <tbody>\n",
       "    <tr>\n",
       "      <th>0</th>\n",
       "      <td>Albania</td>\n",
       "      <td>728.89795</td>\n",
       "      <td>0.30</td>\n",
       "      <td>0.815874</td>\n",
       "      <td>1</td>\n",
       "      <td>2994.829902</td>\n",
       "      <td>8.004643</td>\n",
       "      <td>6.591534</td>\n",
       "    </tr>\n",
       "    <tr>\n",
       "      <th>1</th>\n",
       "      <td>Albania</td>\n",
       "      <td>916.66235</td>\n",
       "      <td>0.30</td>\n",
       "      <td>0.815874</td>\n",
       "      <td>1</td>\n",
       "      <td>2994.829902</td>\n",
       "      <td>8.004643</td>\n",
       "      <td>6.820739</td>\n",
       "    </tr>\n",
       "    <tr>\n",
       "      <th>2</th>\n",
       "      <td>Albania</td>\n",
       "      <td>1010.91600</td>\n",
       "      <td>0.30</td>\n",
       "      <td>0.815874</td>\n",
       "      <td>1</td>\n",
       "      <td>2994.829902</td>\n",
       "      <td>8.004643</td>\n",
       "      <td>6.918612</td>\n",
       "    </tr>\n",
       "    <tr>\n",
       "      <th>3</th>\n",
       "      <td>Albania</td>\n",
       "      <td>1086.90780</td>\n",
       "      <td>0.30</td>\n",
       "      <td>0.815874</td>\n",
       "      <td>1</td>\n",
       "      <td>2994.829902</td>\n",
       "      <td>8.004643</td>\n",
       "      <td>6.991092</td>\n",
       "    </tr>\n",
       "    <tr>\n",
       "      <th>4</th>\n",
       "      <td>Albania</td>\n",
       "      <td>1132.69970</td>\n",
       "      <td>0.30</td>\n",
       "      <td>0.815874</td>\n",
       "      <td>1</td>\n",
       "      <td>2994.829902</td>\n",
       "      <td>8.004643</td>\n",
       "      <td>7.032359</td>\n",
       "    </tr>\n",
       "    <tr>\n",
       "      <th>...</th>\n",
       "      <td>...</td>\n",
       "      <td>...</td>\n",
       "      <td>...</td>\n",
       "      <td>...</td>\n",
       "      <td>...</td>\n",
       "      <td>...</td>\n",
       "      <td>...</td>\n",
       "      <td>...</td>\n",
       "    </tr>\n",
       "    <tr>\n",
       "      <th>5799995</th>\n",
       "      <td>The Democratic Republic Of The Congo</td>\n",
       "      <td>810.62330</td>\n",
       "      <td>0.44</td>\n",
       "      <td>0.707703</td>\n",
       "      <td>100</td>\n",
       "      <td>276.016044</td>\n",
       "      <td>5.620459</td>\n",
       "      <td>6.697803</td>\n",
       "    </tr>\n",
       "    <tr>\n",
       "      <th>5799996</th>\n",
       "      <td>The Democratic Republic Of The Congo</td>\n",
       "      <td>911.78340</td>\n",
       "      <td>0.44</td>\n",
       "      <td>0.707703</td>\n",
       "      <td>100</td>\n",
       "      <td>276.016044</td>\n",
       "      <td>5.620459</td>\n",
       "      <td>6.815402</td>\n",
       "    </tr>\n",
       "    <tr>\n",
       "      <th>5799997</th>\n",
       "      <td>The Democratic Republic Of The Congo</td>\n",
       "      <td>1057.80740</td>\n",
       "      <td>0.44</td>\n",
       "      <td>0.707703</td>\n",
       "      <td>100</td>\n",
       "      <td>276.016044</td>\n",
       "      <td>5.620459</td>\n",
       "      <td>6.963954</td>\n",
       "    </tr>\n",
       "    <tr>\n",
       "      <th>5799998</th>\n",
       "      <td>The Democratic Republic Of The Congo</td>\n",
       "      <td>1286.60290</td>\n",
       "      <td>0.44</td>\n",
       "      <td>0.707703</td>\n",
       "      <td>100</td>\n",
       "      <td>276.016044</td>\n",
       "      <td>5.620459</td>\n",
       "      <td>7.159761</td>\n",
       "    </tr>\n",
       "    <tr>\n",
       "      <th>5799999</th>\n",
       "      <td>The Democratic Republic Of The Congo</td>\n",
       "      <td>2243.12260</td>\n",
       "      <td>0.44</td>\n",
       "      <td>0.707703</td>\n",
       "      <td>100</td>\n",
       "      <td>276.016044</td>\n",
       "      <td>5.620459</td>\n",
       "      <td>7.715624</td>\n",
       "    </tr>\n",
       "  </tbody>\n",
       "</table>\n",
       "<p>5800000 rows × 8 columns</p>\n",
       "</div>"
      ],
      "text/plain": [
       "                                      country     y_child    Gj        pj  \\\n",
       "0                                     Albania   728.89795  0.30  0.815874   \n",
       "1                                     Albania   916.66235  0.30  0.815874   \n",
       "2                                     Albania  1010.91600  0.30  0.815874   \n",
       "3                                     Albania  1086.90780  0.30  0.815874   \n",
       "4                                     Albania  1132.69970  0.30  0.815874   \n",
       "...                                       ...         ...   ...       ...   \n",
       "5799995  The Democratic Republic Of The Congo   810.62330  0.44  0.707703   \n",
       "5799996  The Democratic Republic Of The Congo   911.78340  0.44  0.707703   \n",
       "5799997  The Democratic Republic Of The Congo  1057.80740  0.44  0.707703   \n",
       "5799998  The Democratic Republic Of The Congo  1286.60290  0.44  0.707703   \n",
       "5799999  The Democratic Republic Of The Congo  2243.12260  0.44  0.707703   \n",
       "\n",
       "         c_i_parent           mj  ln_y_child     ln_mj  \n",
       "0                 1  2994.829902    8.004643  6.591534  \n",
       "1                 1  2994.829902    8.004643  6.820739  \n",
       "2                 1  2994.829902    8.004643  6.918612  \n",
       "3                 1  2994.829902    8.004643  6.991092  \n",
       "4                 1  2994.829902    8.004643  7.032359  \n",
       "...             ...          ...         ...       ...  \n",
       "5799995         100   276.016044    5.620459  6.697803  \n",
       "5799996         100   276.016044    5.620459  6.815402  \n",
       "5799997         100   276.016044    5.620459  6.963954  \n",
       "5799998         100   276.016044    5.620459  7.159761  \n",
       "5799999         100   276.016044    5.620459  7.715624  \n",
       "\n",
       "[5800000 rows x 8 columns]"
      ]
     },
     "execution_count": 260,
     "metadata": {},
     "output_type": "execute_result"
    }
   ],
   "source": [
    "# system libraries\n",
    "import warnings\n",
    "warnings.filterwarnings('ignore')\n",
    "warnings.simplefilter(action='ignore', category=FutureWarning)\n",
    "\n",
    "\n",
    "data_wid500"
   ]
  },
  {
   "cell_type": "code",
   "execution_count": 261,
   "id": "7d357349",
   "metadata": {},
   "outputs": [
    {
     "name": "stdout",
     "output_type": "stream",
     "text": [
      "                            OLS Regression Results                            \n",
      "==============================================================================\n",
      "Dep. Variable:             ln_y_child   R-squared:                       0.724\n",
      "Model:                            OLS   Adj. R-squared:                  0.724\n",
      "Method:                 Least Squares   F-statistic:                 5.082e+06\n",
      "Date:                Thu, 28 Apr 2022   Prob (F-statistic):               0.00\n",
      "Time:                        20:08:13   Log-Likelihood:            -5.2881e+06\n",
      "No. Observations:             5800000   AIC:                         1.058e+07\n",
      "Df Residuals:                 5799996   BIC:                         1.058e+07\n",
      "Df Model:                           3                                         \n",
      "Covariance Type:            nonrobust                                         \n",
      "==============================================================================\n",
      "                 coef    std err          t      P>|t|      [0.025      0.975]\n",
      "------------------------------------------------------------------------------\n",
      "Intercept      2.6205      0.002   1203.724      0.000       2.616       2.625\n",
      "Gj             0.1425      0.003     48.115      0.000       0.137       0.148\n",
      "c_i_parent    -0.0031   8.71e-06   -354.444      0.000      -0.003      -0.003\n",
      "ln_mj          0.7128      0.000   3705.331      0.000       0.712       0.713\n",
      "==============================================================================\n",
      "Omnibus:                   235189.084   Durbin-Watson:                   0.276\n",
      "Prob(Omnibus):                  0.000   Jarque-Bera (JB):           676600.417\n",
      "Skew:                           0.150   Prob(JB):                         0.00\n",
      "Kurtosis:                       4.646   Cond. No.                         809.\n",
      "==============================================================================\n",
      "\n",
      "Notes:\n",
      "[1] Standard Errors assume that the covariance matrix of the errors is correctly specified.\n"
     ]
    }
   ],
   "source": [
    "#Modèle de Régression linéaire avec ajout d'une variable supplémentaire \n",
    "modele2_parents = smf.ols('ln_y_child  ~ Gj + c_i_parent +ln_mj', data=data_wid500).fit()\n",
    "print(modele2_parents.summary())"
   ]
  },
  {
   "cell_type": "markdown",
   "id": "a19f7ea7",
   "metadata": {},
   "source": [
    "Le nouveau modèle est moins performant que son précédent (modele2), soit 72% au lieu de 80%, Le coefficient de détermination R² est moins élevé,"
   ]
  },
  {
   "cell_type": "code",
   "execution_count": 262,
   "id": "ac86b3df",
   "metadata": {
    "scrolled": false
   },
   "outputs": [
    {
     "data": {
      "image/png": "[encoded data removed]",
      "text/plain": [
       "<Figure size 1440x720 with 2 Axes>"
      ]
     },
     "metadata": {},
     "output_type": "display_data"
    }
   ],
   "source": [
    "\n",
    "#Distribution des résidus\n",
    "fig, ax = plt.subplots(1, 2, figsize=(20,10))\n",
    "\n",
    "plt.hist(modele2_parents.resid, density=True)\n",
    "\n",
    "model_norm_residuals = modele2_parents.get_influence().resid_studentized_internal\n",
    "QQ = ProbPlot(model_norm_residuals)\n",
    "QQ.qqplot(line='45', alpha=0.5, color='#4C72B0', ax=ax[0])\n",
    "\n",
    "ax[0].set_title('Q-Q Plot')\n",
    "ax[1].set_title('Histogramme des résidus')\n",
    "ax[1].set_xlabel('Valeurs résiduelles')\n",
    "ax[1].set_ylabel('Nombre de résidus')\n",
    "                \n",
    "plt.savefig('p7_graphic_qqplot_histo_residus_last_model.jpg')\n",
    "plt.show()"
   ]
  },
  {
   "cell_type": "markdown",
   "id": "002d837e",
   "metadata": {},
   "source": [
    "On retrouve une distribution des résidus satisfaisante, alignée avec la distribution théorique d'une loi normale."
   ]
  },
  {
   "cell_type": "markdown",
   "id": "824365ea",
   "metadata": {},
   "source": [
    "## Test Kolmogorov-Smirnov (loi Normale)"
   ]
  },
  {
   "cell_type": "code",
   "execution_count": 263,
   "id": "21d97225",
   "metadata": {},
   "outputs": [
    {
     "data": {
      "text/plain": [
       "KstestResult(statistic=0.0187281034482758, pvalue=0.0)"
      ]
     },
     "execution_count": 263,
     "metadata": {},
     "output_type": "execute_result"
    }
   ],
   "source": [
    "X_ln2 = modele2_parents.resid\n",
    "Xbar_ln2 = np.mean(X_ln2)\n",
    "Xsprime_ln2 = np.std(X_ln2)\n",
    "\n",
    "ks_2samp(modele2_parents.resid, list(np.random.normal(Xbar_ln2, Xsprime_ln2, 5_800_000)))"
   ]
  },
  {
   "cell_type": "markdown",
   "id": "91a6e686",
   "metadata": {},
   "source": [
    "Sans surprise avec les précésents résultats l'hypothèse de normalité est remise en cause (p-value = 0.0 < 0.05)."
   ]
  },
  {
   "cell_type": "markdown",
   "id": "435e03f9",
   "metadata": {},
   "source": [
    "Les résidus ne suivent pas totalement une loi Normale, mais les observations ne sont pas très différentes d'une distribution symétrique, et l'échantillon est de taille importante, les résultats du modèle ne sont pas absurdes."
   ]
  },
  {
   "cell_type": "markdown",
   "id": "5ce06e40",
   "metadata": {},
   "source": [
    "## Diagnostic du Modèle"
   ]
  },
  {
   "cell_type": "code",
   "execution_count": 264,
   "id": "edcced09",
   "metadata": {},
   "outputs": [
    {
     "data": {
      "text/html": [
       "<div>\n",
       "<style scoped>\n",
       "    .dataframe tbody tr th:only-of-type {\n",
       "        vertical-align: middle;\n",
       "    }\n",
       "\n",
       "    .dataframe tbody tr th {\n",
       "        vertical-align: top;\n",
       "    }\n",
       "\n",
       "    .dataframe thead th {\n",
       "        text-align: right;\n",
       "    }\n",
       "</style>\n",
       "<table border=\"1\" class=\"dataframe\">\n",
       "  <thead>\n",
       "    <tr style=\"text-align: right;\">\n",
       "      <th></th>\n",
       "      <th>country</th>\n",
       "      <th>y_child</th>\n",
       "      <th>Gj</th>\n",
       "      <th>pj</th>\n",
       "      <th>c_i_parent</th>\n",
       "      <th>mj</th>\n",
       "      <th>ln_y_child</th>\n",
       "      <th>ln_mj</th>\n",
       "    </tr>\n",
       "  </thead>\n",
       "  <tbody>\n",
       "    <tr>\n",
       "      <th>0</th>\n",
       "      <td>Albania</td>\n",
       "      <td>728.89795</td>\n",
       "      <td>0.3</td>\n",
       "      <td>0.815874</td>\n",
       "      <td>1</td>\n",
       "      <td>2994.829902</td>\n",
       "      <td>8.004643</td>\n",
       "      <td>6.591534</td>\n",
       "    </tr>\n",
       "    <tr>\n",
       "      <th>1</th>\n",
       "      <td>Albania</td>\n",
       "      <td>916.66235</td>\n",
       "      <td>0.3</td>\n",
       "      <td>0.815874</td>\n",
       "      <td>1</td>\n",
       "      <td>2994.829902</td>\n",
       "      <td>8.004643</td>\n",
       "      <td>6.820739</td>\n",
       "    </tr>\n",
       "    <tr>\n",
       "      <th>2</th>\n",
       "      <td>Albania</td>\n",
       "      <td>1010.91600</td>\n",
       "      <td>0.3</td>\n",
       "      <td>0.815874</td>\n",
       "      <td>1</td>\n",
       "      <td>2994.829902</td>\n",
       "      <td>8.004643</td>\n",
       "      <td>6.918612</td>\n",
       "    </tr>\n",
       "    <tr>\n",
       "      <th>3</th>\n",
       "      <td>Albania</td>\n",
       "      <td>1086.90780</td>\n",
       "      <td>0.3</td>\n",
       "      <td>0.815874</td>\n",
       "      <td>1</td>\n",
       "      <td>2994.829902</td>\n",
       "      <td>8.004643</td>\n",
       "      <td>6.991092</td>\n",
       "    </tr>\n",
       "    <tr>\n",
       "      <th>4</th>\n",
       "      <td>Albania</td>\n",
       "      <td>1132.69970</td>\n",
       "      <td>0.3</td>\n",
       "      <td>0.815874</td>\n",
       "      <td>1</td>\n",
       "      <td>2994.829902</td>\n",
       "      <td>8.004643</td>\n",
       "      <td>7.032359</td>\n",
       "    </tr>\n",
       "  </tbody>\n",
       "</table>\n",
       "</div>"
      ],
      "text/plain": [
       "   country     y_child   Gj        pj  c_i_parent           mj  ln_y_child  \\\n",
       "0  Albania   728.89795  0.3  0.815874           1  2994.829902    8.004643   \n",
       "1  Albania   916.66235  0.3  0.815874           1  2994.829902    8.004643   \n",
       "2  Albania  1010.91600  0.3  0.815874           1  2994.829902    8.004643   \n",
       "3  Albania  1086.90780  0.3  0.815874           1  2994.829902    8.004643   \n",
       "4  Albania  1132.69970  0.3  0.815874           1  2994.829902    8.004643   \n",
       "\n",
       "      ln_mj  \n",
       "0  6.591534  \n",
       "1  6.820739  \n",
       "2  6.918612  \n",
       "3  6.991092  \n",
       "4  7.032359  "
      ]
     },
     "execution_count": 264,
     "metadata": {},
     "output_type": "execute_result"
    }
   ],
   "source": [
    "#Paramètres nécessaires au lancement du diagnostic\n",
    "alpha = .05        #test niveau 5%\n",
    "n = len(data_wid500) #nombre d'individus de l'échantillon\n",
    "p = 4              #nombre de variables\n",
    "\n",
    "#Nouveau dataframe d'étude du modèle \n",
    "diagnostic = data_wid500.copy()\n",
    "diagnostic.head()"
   ]
  },
  {
   "cell_type": "markdown",
   "id": "8bd2f2fe",
   "metadata": {},
   "source": [
    "## Analyse des leviers avec seuil"
   ]
  },
  {
   "cell_type": "code",
   "execution_count": 265,
   "id": "6ab7bad4",
   "metadata": {},
   "outputs": [],
   "source": [
    "#Création de la variable levier\n",
    "diagnostic['levier'] = modele2_parents.get_influence().hat_matrix_diag\n",
    "\n",
    "seuil_levier = 2*p/n"
   ]
  },
  {
   "cell_type": "code",
   "execution_count": 266,
   "id": "e30cad43",
   "metadata": {},
   "outputs": [],
   "source": [
    "#Agrégation des données selon leurs pays, vision simplifiée du couple pays/levier\n",
    "#Simplification du dataframe pour une visualisation et interprétation plus rapide\n",
    "diagnostic_levier = diagnostic.groupby('country').mean().reset_index()"
   ]
  },
  {
   "cell_type": "code",
   "execution_count": 267,
   "id": "8df93ae6",
   "metadata": {},
   "outputs": [
    {
     "data": {
      "image/png": "[encoded data removed]",
      "text/plain": [
       "<Figure size 1440x720 with 1 Axes>"
      ]
     },
     "metadata": {},
     "output_type": "display_data"
    }
   ],
   "source": [
    "#Visualisation des leviers par pays avec représentation du seuil\n",
    "plt.figure(figsize=(20,10))\n",
    "\n",
    "plt.bar(diagnostic_levier[diagnostic_levier['levier'] <= seuil_levier]['country'].index,\n",
    "        diagnostic_levier[diagnostic_levier['levier'] <= seuil_levier]['levier'], color='b')\n",
    "plt.bar(diagnostic_levier[diagnostic_levier['levier'] > seuil_levier]['country'].index,\n",
    "        diagnostic_levier[diagnostic_levier['levier'] > seuil_levier]['levier'], color='r')\n",
    "plt.plot([0, 116], [seuil_levier, seuil_levier], color='y')\n",
    "\n",
    "plt.xlabel('Observations', fontsize=15, fontweight='bold')\n",
    "plt.ylabel('Leviers', fontsize=15, fontweight='bold')\n",
    "plt.title('Analyse graphique des leviers', fontsize=20, fontweight='bold')\n",
    "\n",
    "plt.savefig('p7_graphic_leviers_last_model.jpg')\n",
    "plt.show()"
   ]
  },
  {
   "cell_type": "code",
   "execution_count": 268,
   "id": "1648b0c5",
   "metadata": {},
   "outputs": [
    {
     "data": {
      "text/plain": [
       "41        Honduras\n",
       "93    South Africa\n",
       "Name: country, dtype: object"
      ]
     },
     "execution_count": 268,
     "metadata": {},
     "output_type": "execute_result"
    }
   ],
   "source": [
    "#Identification du pays outlier sur le critère des leviers\n",
    "diagnostic_levier[diagnostic_levier['levier'] > seuil_levier]['country']"
   ]
  },
  {
   "cell_type": "markdown",
   "id": "861a65c2",
   "metadata": {},
   "source": [
    "Dans la visualisation des distributions de nos variables, ces pays avait été identifié comme tel car leurs coefficients de Gini était bien trop élevé par rapport aux autres pays..."
   ]
  },
  {
   "cell_type": "markdown",
   "id": "d037db61",
   "metadata": {},
   "source": [
    "## Analyse des résidus studentisés"
   ]
  },
  {
   "cell_type": "code",
   "execution_count": 269,
   "id": "52470559",
   "metadata": {},
   "outputs": [],
   "source": [
    "#Intégration de la variable liée aux résidus\n",
    "diagnostic['rstudent'] = modele2_parents.get_influence().resid_studentized_internal\n",
    "\n",
    "seuil_rstudent = t.ppf(1-alpha/2,n-p-1)"
   ]
  },
  {
   "cell_type": "code",
   "execution_count": 270,
   "id": "8404dae9",
   "metadata": {},
   "outputs": [],
   "source": [
    "#Agrégation des données selon leurs pays, vision simplifiée du couple pays-individu/rstudent\n",
    "#Simplification du dataframe pour une visualisation et interprétation plus rapide\n",
    "diagnostic_rstudent = diagnostic.groupby(['country', 'y_child']).mean().reset_index()"
   ]
  },
  {
   "cell_type": "code",
   "execution_count": 271,
   "id": "9614bd77",
   "metadata": {},
   "outputs": [
    {
     "data": {
      "image/png": "[encoded data removed]",
      "text/plain": [
       "<Figure size 1440x720 with 1 Axes>"
      ]
     },
     "metadata": {},
     "output_type": "display_data"
    }
   ],
   "source": [
    "#Visualisation globale des résidus studentisés avec représentation du seuil\n",
    "plt.figure(figsize=(20,10))\n",
    "\n",
    "plt.bar(diagnostic_rstudent[(diagnostic_rstudent['rstudent'] <= seuil_rstudent) & \n",
    "                            (diagnostic_rstudent['rstudent'] >= -seuil_rstudent)]['country'].index, \n",
    "        diagnostic_rstudent[(diagnostic_rstudent['rstudent'] <= seuil_rstudent) &\n",
    "                            (diagnostic_rstudent['rstudent'] >= -seuil_rstudent)]['rstudent'], color='b')\n",
    "\n",
    "plt.bar(diagnostic_rstudent[diagnostic_rstudent['rstudent'] > seuil_rstudent]['country'].index, \n",
    "        diagnostic_rstudent[diagnostic_rstudent['rstudent'] > seuil_rstudent]['rstudent'], color='r')\n",
    "plt.bar(diagnostic_rstudent[diagnostic_rstudent['rstudent'] < -seuil_rstudent]['country'].index, \n",
    "        diagnostic_rstudent[diagnostic_rstudent['rstudent'] < -seuil_rstudent]['rstudent'], color='r')\n",
    "\n",
    "plt.axhline(y=seuil_rstudent, color='y', linestyle='-')\n",
    "plt.axhline(y=-seuil_rstudent, color='y', linestyle='-')\n",
    "\n",
    "plt.xlabel('Observations', fontsize=15, fontweight='bold')\n",
    "plt.ylabel('Résidus studentisés', fontsize=15, fontweight='bold')\n",
    "plt.title('Analyse graphique des résidus studentisés', fontsize=20, fontweight='bold')\n",
    "\n",
    "plt.ylim(-5, 5)\n",
    "plt.savefig('p7_graphic_residus_studentises_last_model.jpg')\n",
    "plt.show()"
   ]
  },
  {
   "cell_type": "code",
   "execution_count": 272,
   "id": "1b4dedf5",
   "metadata": {},
   "outputs": [
    {
     "name": "stdout",
     "output_type": "stream",
     "text": [
      "567 valeurs influentes dans le Modèle\n",
      "soit 4.0% valeurs plus influentes que les autres\n"
     ]
    }
   ],
   "source": [
    "#Pourcentage des observations hors seuil sur le critère des résidus standardisés\n",
    "print(str(len(diagnostic_rstudent[(diagnostic_rstudent['rstudent'] > seuil_rstudent) | \n",
    "                 (diagnostic_rstudent['rstudent'] < -seuil_rstudent)])), \n",
    "                 'valeurs influentes dans le Modèle')\n",
    "print('soit ' + str(round(477/len(diagnostic_rstudent), 2)*100) + '% valeurs plus influentes que les autres')"
   ]
  },
  {
   "cell_type": "markdown",
   "id": "f1fbb292",
   "metadata": {},
   "source": [
    "## Analyse de la distance de Cook :"
   ]
  },
  {
   "cell_type": "code",
   "execution_count": 273,
   "id": "2726195d",
   "metadata": {},
   "outputs": [],
   "source": [
    "influence = modele2_parents.get_influence()\n",
    "\n",
    "cooks_d = influence1.cooks_distance[0]"
   ]
  },
  {
   "cell_type": "code",
   "execution_count": 274,
   "id": "67bd0c95",
   "metadata": {},
   "outputs": [],
   "source": [
    "#Intégration des distances de Cook dans \"diagnostic\"\n",
    "diagnostic['dcooks'] = cooks_d"
   ]
  },
  {
   "cell_type": "code",
   "execution_count": 275,
   "id": "d7b6084f",
   "metadata": {},
   "outputs": [],
   "source": [
    "#Seuil de la distance de Cook est de n-p. \n",
    "seuil_dcook = 4/(n-p)"
   ]
  },
  {
   "cell_type": "code",
   "execution_count": 276,
   "id": "6cd336db",
   "metadata": {},
   "outputs": [],
   "source": [
    "#Simplification des données propres à l'analyse de la distance de Cook\n",
    "diagnostic_dcook = diagnostic.groupby(['country', 'y_child']).mean().reset_index()"
   ]
  },
  {
   "cell_type": "code",
   "execution_count": 277,
   "id": "b7e0466c",
   "metadata": {},
   "outputs": [
    {
     "data": {
      "image/png": "[encoded data removed]",
      "text/plain": [
       "<Figure size 1440x720 with 1 Axes>"
      ]
     },
     "metadata": {},
     "output_type": "display_data"
    }
   ],
   "source": [
    "#Visualisation globale des distances de Cook avec représentation du seuil\n",
    "plt.figure(figsize=(20,10))\n",
    "\n",
    "plt.bar(diagnostic_dcook[diagnostic_dcook['dcooks'] < seuil_dcook]['country'].index,\n",
    "        diagnostic_dcook[diagnostic_dcook['dcooks'] < seuil_dcook]['dcooks'], color='b')\n",
    "plt.bar(diagnostic_dcook[diagnostic_dcook['dcooks'] >= seuil_dcook]['country'].index,\n",
    "        diagnostic_dcook[diagnostic_dcook['dcooks'] >= seuil_dcook]['dcooks'], color='r')\n",
    "\n",
    "plt.plot([0, 12000], [seuil_dcook, seuil_dcook], color='y')\n",
    "plt.ylim(0, 0.000003)\n",
    "\n",
    "plt.xlabel('Observations', fontsize=15, fontweight='bold')\n",
    "plt.ylabel('Distances de Cook', fontsize=15, fontweight='bold')\n",
    "plt.title('Analyse graphique des distances de Cook', fontsize=20, fontweight='bold')\n",
    "\n",
    "plt.savefig('p7_graphic_dcook_last_model.jpg')\n",
    "plt.show()"
   ]
  },
  {
   "cell_type": "code",
   "execution_count": 278,
   "id": "4a9a3952",
   "metadata": {},
   "outputs": [
    {
     "name": "stdout",
     "output_type": "stream",
     "text": [
      "589 valeurs atypiques sur le critère de d. Cook\n",
      "soit 5.0% des valeurs sont plus atypiques selon ce seuil.\n"
     ]
    }
   ],
   "source": [
    "#Pourcentage des observations hors seuil sur le critère de la distance de Cook\n",
    "print(str(len(diagnostic_dcook[diagnostic_dcook['dcooks'] >= seuil_dcook])) \n",
    "      + ' valeurs atypiques sur le critère de d. Cook')\n",
    "print('soit ' + str(round(586/len(diagnostic_dcook), 2)*100) + '% des valeurs sont plus atypiques selon ce seuil.')"
   ]
  },
  {
   "cell_type": "markdown",
   "id": "7e2418a8",
   "metadata": {},
   "source": [
    "## Test de colinéarité du dernier modèle"
   ]
  },
  {
   "cell_type": "markdown",
   "id": "84bce5f4",
   "metadata": {},
   "source": [
    "Ci-dessous test de vérification de la colinéarité approchée de nos variables."
   ]
  },
  {
   "cell_type": "code",
   "execution_count": 279,
   "id": "6c5bd946",
   "metadata": {},
   "outputs": [
    {
     "data": {
      "text/plain": [
       "[1.1198610709862682, 1.0092046522658673, 1.1290634033615514]"
      ]
     },
     "execution_count": 279,
     "metadata": {},
     "output_type": "execute_result"
    }
   ],
   "source": [
    "variables = modele2_parents.model.exog\n",
    "[variance_inflation_factor(variables, i) for i in np.arange(1,variables.shape[1])]"
   ]
  },
  {
   "cell_type": "markdown",
   "id": "3a00e598",
   "metadata": {},
   "source": [
    "Aucun problème de colinéarité"
   ]
  },
  {
   "cell_type": "markdown",
   "id": "b5019f32",
   "metadata": {},
   "source": [
    "### L’homoscédasticité par un test de Breusch-Pagan"
   ]
  },
  {
   "cell_type": "markdown",
   "id": "9ad18a58",
   "metadata": {},
   "source": [
    "On peut également tester l’homoscédasticité, la constance de la variance des résidus :"
   ]
  },
  {
   "cell_type": "code",
   "execution_count": 280,
   "id": "7ab6e09a",
   "metadata": {},
   "outputs": [
    {
     "name": "stdout",
     "output_type": "stream",
     "text": [
      "p value test Breusch-Pagan: 0.0\n"
     ]
    }
   ],
   "source": [
    "import statsmodels.stats.api as sms\n",
    "__, pval, __, f_pval = sms.het_breuschpagan(modele2_parents.resid, modele2_parents.model.exog)\n",
    "print('p value test Breusch-Pagan:', pval)"
   ]
  },
  {
   "cell_type": "markdown",
   "id": "1cefcfa7",
   "metadata": {},
   "source": [
    "Rejet de l'hypothèse H0 (les variances sont constantes), il y a hétéroscédasticité des residus.\n",
    "\n",
    "Ceci étant, le modèle de regression linéaire multiple est robuste pour les grands échantillons, ce qui est le cas dans notre contexte. Le modèle est capable de supporter des écarts important aux hypothèses homoscédastique"
   ]
  },
  {
   "cell_type": "markdown",
   "id": "f636c5f8",
   "metadata": {},
   "source": [
    "### Décomposition de la variance totale expliquée"
   ]
  },
  {
   "cell_type": "markdown",
   "id": "bf5c178e",
   "metadata": {},
   "source": [
    "Formule de décomposition de la variance SCT = SCE + SCR"
   ]
  },
  {
   "cell_type": "code",
   "execution_count": 281,
   "id": "ad0a2be1",
   "metadata": {},
   "outputs": [
    {
     "data": {
      "text/html": [
       "<div>\n",
       "<style scoped>\n",
       "    .dataframe tbody tr th:only-of-type {\n",
       "        vertical-align: middle;\n",
       "    }\n",
       "\n",
       "    .dataframe tbody tr th {\n",
       "        vertical-align: top;\n",
       "    }\n",
       "\n",
       "    .dataframe thead th {\n",
       "        text-align: right;\n",
       "    }\n",
       "</style>\n",
       "<table border=\"1\" class=\"dataframe\">\n",
       "  <thead>\n",
       "    <tr style=\"text-align: right;\">\n",
       "      <th></th>\n",
       "      <th>df</th>\n",
       "      <th>sum_sq</th>\n",
       "      <th>mean_sq</th>\n",
       "      <th>F</th>\n",
       "      <th>PR(&gt;F)</th>\n",
       "    </tr>\n",
       "  </thead>\n",
       "  <tbody>\n",
       "    <tr>\n",
       "      <th>Gj</th>\n",
       "      <td>1.0</td>\n",
       "      <td>5.503102e+05</td>\n",
       "      <td>5.503102e+05</td>\n",
       "      <td>1.517589e+06</td>\n",
       "      <td>0.000000</td>\n",
       "    </tr>\n",
       "    <tr>\n",
       "      <th>c_i_parent</th>\n",
       "      <td>1.0</td>\n",
       "      <td>1.213793e-01</td>\n",
       "      <td>1.213793e-01</td>\n",
       "      <td>3.347271e-01</td>\n",
       "      <td>0.562889</td>\n",
       "    </tr>\n",
       "    <tr>\n",
       "      <th>ln_mj</th>\n",
       "      <td>1.0</td>\n",
       "      <td>4.978603e+06</td>\n",
       "      <td>4.978603e+06</td>\n",
       "      <td>1.372948e+07</td>\n",
       "      <td>0.000000</td>\n",
       "    </tr>\n",
       "    <tr>\n",
       "      <th>Residual</th>\n",
       "      <td>5799996.0</td>\n",
       "      <td>2.103203e+06</td>\n",
       "      <td>3.626215e-01</td>\n",
       "      <td>NaN</td>\n",
       "      <td>NaN</td>\n",
       "    </tr>\n",
       "  </tbody>\n",
       "</table>\n",
       "</div>"
      ],
      "text/plain": [
       "                   df        sum_sq       mean_sq             F    PR(>F)\n",
       "Gj                1.0  5.503102e+05  5.503102e+05  1.517589e+06  0.000000\n",
       "c_i_parent        1.0  1.213793e-01  1.213793e-01  3.347271e-01  0.562889\n",
       "ln_mj             1.0  4.978603e+06  4.978603e+06  1.372948e+07  0.000000\n",
       "Residual    5799996.0  2.103203e+06  3.626215e-01           NaN       NaN"
      ]
     },
     "execution_count": 281,
     "metadata": {},
     "output_type": "execute_result"
    }
   ],
   "source": [
    "import statsmodels\n",
    "import statsmodels.api as sm\n",
    "import statsmodels.formula.api as smf\n",
    "from statsmodels.stats.outliers_influence import variance_inflation_factor\n",
    "# Anova sur notre régression linéaire\n",
    "regr_log_anova2 = sm.stats.anova_lm(modele2_parents, typ=1)\n",
    "regr_log_anova2"
   ]
  },
  {
   "cell_type": "code",
   "execution_count": 282,
   "id": "d5b78ef0",
   "metadata": {},
   "outputs": [
    {
     "data": {
      "text/plain": [
       "5799999.0"
      ]
     },
     "execution_count": 282,
     "metadata": {},
     "output_type": "execute_result"
    }
   ],
   "source": [
    "#SCT\n",
    "regr_log_sct = regr_log_anova2.values[:,0].sum()\n",
    "regr_log_sct"
   ]
  },
  {
   "cell_type": "code",
   "execution_count": 283,
   "id": "9ecb1ba4",
   "metadata": {},
   "outputs": [
    {
     "data": {
      "text/plain": [
       "3.0"
      ]
     },
     "execution_count": 283,
     "metadata": {},
     "output_type": "execute_result"
    }
   ],
   "source": [
    "#SCE\n",
    "regr_log_sce = regr_log_anova2.values[0,0]+regr_log_anova2.values[1,0]+regr_log_anova2.values[2,0]\n",
    "regr_log_sce"
   ]
  },
  {
   "cell_type": "code",
   "execution_count": 284,
   "id": "d840018e",
   "metadata": {},
   "outputs": [
    {
     "data": {
      "text/plain": [
       "1.0"
      ]
     },
     "execution_count": 284,
     "metadata": {},
     "output_type": "execute_result"
    }
   ],
   "source": [
    "#SCR\n",
    "regr_log_scr = regr_log_anova2.values[2,0]\n",
    "regr_log_scr"
   ]
  },
  {
   "cell_type": "code",
   "execution_count": 285,
   "id": "8e39beb2",
   "metadata": {},
   "outputs": [
    {
     "data": {
      "text/plain": [
       "5.172414684899084e-07"
      ]
     },
     "execution_count": 285,
     "metadata": {},
     "output_type": "execute_result"
    }
   ],
   "source": [
    "#R2 squared\n",
    "regr_log_r2 = regr_log_sce/regr_log_sct\n",
    "regr_log_r2"
   ]
  },
  {
   "cell_type": "code",
   "execution_count": 286,
   "id": "457ee33f",
   "metadata": {},
   "outputs": [
    {
     "data": {
      "text/plain": [
       "0.8583800075155318"
      ]
     },
     "execution_count": 286,
     "metadata": {},
     "output_type": "execute_result"
    }
   ],
   "source": [
    "#Variance expliquée par le revenu moyen du pays (ln_mg)\n",
    "regr_log_sce_incomeavg = sm.stats.anova_lm(modele2_parents, typ=2).values[2,0]/regr_log_sct\n",
    "regr_log_sce_incomeavg"
   ]
  },
  {
   "cell_type": "code",
   "execution_count": 287,
   "id": "818ba887",
   "metadata": {},
   "outputs": [
    {
     "data": {
      "text/plain": [
       "0.00014473704876732504"
      ]
     },
     "execution_count": 287,
     "metadata": {},
     "output_type": "execute_result"
    }
   ],
   "source": [
    "#Variance expliquée par l'indice de Gini\n",
    "regr_log_sce_gini = sm.stats.anova_lm(modele2_parents, typ=2).values[0,0]/regr_log_sct\n",
    "regr_log_sce_gini"
   ]
  },
  {
   "cell_type": "code",
   "execution_count": 288,
   "id": "e73e7d66",
   "metadata": {},
   "outputs": [
    {
     "data": {
      "text/plain": [
       "0.007854528834107645"
      ]
     },
     "execution_count": 288,
     "metadata": {},
     "output_type": "execute_result"
    }
   ],
   "source": [
    "#Variance expliquée par la classe de revenu des parents\n",
    "regr_log_sce_pa = sm.stats.anova_lm(modele2_parents, typ=2).values[1,0]/regr_log_sct\n",
    "regr_log_sce_pa"
   ]
  },
  {
   "cell_type": "code",
   "execution_count": 289,
   "id": "c82e9935",
   "metadata": {},
   "outputs": [
    {
     "data": {
      "text/plain": [
       "0.3626213011383737"
      ]
     },
     "execution_count": 289,
     "metadata": {},
     "output_type": "execute_result"
    }
   ],
   "source": [
    "#Les résidus\n",
    "regr_log_sce_residual = sm.stats.anova_lm(modele2_parents, typ=2).values[3,0]/regr_log_sct\n",
    "regr_log_sce_residual"
   ]
  },
  {
   "cell_type": "markdown",
   "id": "b5c76bb8",
   "metadata": {},
   "source": [
    "A partir de notre dernier modèle, nous pouvons conclure à un rôle clé du pays de naissance : 86% de la variance expliquée.\\ La classe de revenu des parents explique 0.8% de la variance.\\ L'indice de Gini compte pour seulement 0.01% de la variance.\\ Puis le reste, les résidus…"
   ]
  },
  {
   "cell_type": "markdown",
   "id": "4b7b6dbc",
   "metadata": {},
   "source": [
    "Plus l’indice de Gini est élevé, plus les inégalités sont fortes, des écarts dans les salaires importants avec des revenus/individus plus bas dans le pays. L'exemple du précédent modèle est révélateur, on peut comprendre ce lien par le coefficient négatif au sein du modèle."
   ]
  },
  {
   "cell_type": "markdown",
   "id": "167bab33",
   "metadata": {},
   "source": [
    "#### Pour finir sur le dernier modèle, la décomposition de variance totale est expliquée différents éléments. Concluons en disant que la prédiction du revenu potentiel d'une personne peut s'appréhender selon la logique suivante :"
   ]
  },
  {
   "cell_type": "markdown",
   "id": "23814df3",
   "metadata": {},
   "source": [
    "Le dernier modèle inclut la classe de revenu des parents, pour commencer l'analyse des résidus est sensiblement la même que sur le modèle précédent, c'est-à-dire que la loi normale est généralement suivie, R² = 0.724 (contre 0.797 sur le modèle précédent)."
   ]
  },
  {
   "cell_type": "code",
   "execution_count": null,
   "id": "439252ae",
   "metadata": {},
   "outputs": [],
   "source": []
  }
 ],
 "metadata": {
  "kernelspec": {
   "display_name": "Python 3 (ipykernel)",
   "language": "python",
   "name": "python3"
  },
  "language_info": {
   "codemirror_mode": {
    "name": "ipython",
    "version": 3
   },
   "file_extension": ".py",
   "mimetype": "text/x-python",
   "name": "python",
   "nbconvert_exporter": "python",
   "pygments_lexer": "ipython3",
   "version": "3.9.7"
  }
 },
 "nbformat": 4,
 "nbformat_minor": 5
}
